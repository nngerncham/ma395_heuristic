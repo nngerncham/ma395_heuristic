{
 "cells": [
  {
   "cell_type": "code",
   "execution_count": 1,
   "id": "initial_id",
   "metadata": {
    "collapsed": true,
    "ExecuteTime": {
     "end_time": "2023-09-27T16:07:07.755777107Z",
     "start_time": "2023-09-27T16:07:07.751883621Z"
    }
   },
   "outputs": [],
   "source": [
    "from typing import Callable, List, TypeVar, Tuple\n",
    "\n",
    "import matplotlib.pylab as plt\n",
    "import numpy as np\n",
    "import pandas as pd\n",
    "import seaborn as sns\n",
    "from numpy.random import default_rng\n",
    "\n",
    "from simulated_annealing.algorithm import simple_simulated_annealing, SAResult\n",
    "from simulated_annealing.neighbors_generator import generate_2opt_neighbor, generate_2swap_neighbor\n",
    "\n",
    "T = TypeVar(\"T\")\n",
    "REPS = 10\n",
    "SEEDS = np.random.randint(200, size=10)"
   ]
  },
  {
   "cell_type": "markdown",
   "source": [
    "# Experiments"
   ],
   "metadata": {
    "collapsed": false
   },
   "id": "e7ddda4cd4aa3e5a"
  },
  {
   "cell_type": "code",
   "execution_count": 2,
   "outputs": [],
   "source": [
    "def shape_progress(result: SAResult) -> pd.DataFrame:\n",
    "    return pd.DataFrame({\n",
    "        \"Iteration\": np.arange(len(result.b_progress)),\n",
    "        \"Best cost\": result.b_progress,\n",
    "        \"Current cost\": result.c_progress,\n",
    "        \"Acceptance rate\": result.acceptance_rate,\n",
    "    })\n",
    "\n",
    "\n",
    "def shuffle(lst: List[T]) -> List[T]:\n",
    "    rng = default_rng()\n",
    "    lst_cp = lst.copy()\n",
    "    rng.shuffle(lst_cp)\n",
    "    return lst_cp\n",
    "\n",
    "\n",
    "def generate_path_distance_computer(fp: str) -> Tuple[Callable[[List[int]], float], int]:\n",
    "    data = np.loadtxt(fp)\n",
    "    n = data.shape[0]\n",
    "\n",
    "    def compute_pd(path: List[int]) -> float:\n",
    "        return np.sum([data[path[i], path[(i + 1) % n]] for i in range(n)])\n",
    "\n",
    "    return compute_pd, n\n",
    "\n",
    "\n",
    "def experiment(data_set: str,\n",
    "               nbr: Callable[[List[int]], List[int]],\n",
    "               name: str,\n",
    "               max_iters=10_000,\n",
    "               seeds=np.random.randint(100, size=REPS),\n",
    "               temp_factor=0.95,\n",
    "               initial_temp=None) -> pd.DataFrame:\n",
    "    obj_f, n = generate_path_distance_computer(data_set)\n",
    "    results = []\n",
    "\n",
    "    for i in range(REPS):\n",
    "        np.random.seed(seeds[i])\n",
    "        s0 = shuffle([i for i in range(n)])\n",
    "        results.append(\n",
    "            simple_simulated_annealing(obj_f, nbr, s0,\n",
    "                                       temp_factor=temp_factor,\n",
    "                                       initial_temperature=initial_temp,\n",
    "                                       max_iterations=max_iters)\n",
    "        )\n",
    "\n",
    "    df = pd.concat([shape_progress(r) for r in results])\n",
    "    df[\"Type\"] = name\n",
    "    return df"
   ],
   "metadata": {
    "collapsed": false,
    "ExecuteTime": {
     "end_time": "2023-09-27T16:07:07.766085988Z",
     "start_time": "2023-09-27T16:07:07.760176819Z"
    }
   },
   "id": "4e14579c45b6c503"
  },
  {
   "cell_type": "code",
   "execution_count": 3,
   "outputs": [],
   "source": [
    "def plot(df: pd.DataFrame, optimal: float) -> Tuple[plt.Figure, Tuple]:\n",
    "    fig, (a1, a2, a3) = plt.subplots(1, 3, width_ratios=[0.3, 0.35, 0.35], figsize=(15, 3))\n",
    "    sns.lineplot(df, x=\"Iteration\", y=\"Acceptance rate\", ax=a1)\n",
    "    a2.axhline(optimal, color=\"black\")\n",
    "    sns.lineplot(df, x=\"Iteration\", y=\"Best cost\", hue=\"Type\", ax=a2)\n",
    "    a3.axhline(optimal, color=\"black\")\n",
    "    sns.lineplot(df, x=\"Iteration\", y=\"Current cost\", hue=\"Type\", ax=a3)\n",
    "\n",
    "    return fig, (a1, a2, a3)"
   ],
   "metadata": {
    "collapsed": false,
    "ExecuteTime": {
     "end_time": "2023-09-27T16:07:07.766295905Z",
     "start_time": "2023-09-27T16:07:07.762788479Z"
    }
   },
   "id": "fb7b87d0460e14b2"
  },
  {
   "cell_type": "code",
   "execution_count": 4,
   "outputs": [],
   "source": [
    "# gr17_2swap_df = experiment(\"data/gr17_d.txt\", generate_2swap_neighbor, \"SA 2-swap\",\n",
    "#                            max_iters=1500, seeds=SEEDS)\n",
    "# gr17_2opt_df = experiment(\"data/gr17_d.txt\", generate_2opt_neighbor, \"SA 2-opt\",\n",
    "#                           max_iters=1500, seeds=SEEDS)\n",
    "# gr17_df = pd.concat([gr17_2swap_df, gr17_2opt_df])\n",
    "# gr17_df.to_csv(\"results/sa_gr17.csv\", index=False)"
   ],
   "metadata": {
    "collapsed": false,
    "ExecuteTime": {
     "end_time": "2023-09-27T16:07:07.809778613Z",
     "start_time": "2023-09-27T16:07:07.767708627Z"
    }
   },
   "id": "a3f0220ba35d99eb"
  },
  {
   "cell_type": "code",
   "execution_count": 5,
   "outputs": [],
   "source": [
    "# %%time\n",
    "# gr17_fig, _ = plot(gr17_df, 2085)\n",
    "# gr17_fig.savefig(\"../images/gr17_sa\", dpi=600, bbox_inches=\"tight\")"
   ],
   "metadata": {
    "collapsed": false,
    "ExecuteTime": {
     "end_time": "2023-09-27T16:07:07.810007275Z",
     "start_time": "2023-09-27T16:07:07.809688071Z"
    }
   },
   "id": "7fe26afb47c3c84d"
  },
  {
   "cell_type": "code",
   "execution_count": 6,
   "outputs": [],
   "source": [
    "# fri26_2swap_df = experiment(\"data/fri26_d.txt\", generate_2swap_neighbor, \"SA 2-swap\",\n",
    "#                             max_iters=2500, seeds=SEEDS)\n",
    "# fri26_2opt_df = experiment(\"data/fri26_d.txt\", generate_2opt_neighbor, \"SA 2-opt\",\n",
    "#                            max_iters=2500, seeds=SEEDS)\n",
    "# fri26_df = pd.concat([fri26_2opt_df, fri26_2swap_df])\n",
    "# fri26_df.to_csv(\"results/sa_fri26.csv\", index=False)"
   ],
   "metadata": {
    "collapsed": false,
    "ExecuteTime": {
     "end_time": "2023-09-27T16:07:07.810479498Z",
     "start_time": "2023-09-27T16:07:07.809909821Z"
    }
   },
   "id": "6037b756ec5c9ef6"
  },
  {
   "cell_type": "code",
   "execution_count": 7,
   "outputs": [],
   "source": [
    "# %%time\n",
    "# fri26_fig, _ = plot(fri26_df, 937)\n",
    "# fri26_fig.savefig(\"../images/fri26_sa\", dpi=600, bbox_inches=\"tight\")"
   ],
   "metadata": {
    "collapsed": false,
    "ExecuteTime": {
     "end_time": "2023-09-27T16:07:07.810639922Z",
     "start_time": "2023-09-27T16:07:07.809985845Z"
    }
   },
   "id": "727ed245110ae711"
  },
  {
   "cell_type": "code",
   "execution_count": 8,
   "outputs": [
    {
     "name": "stdout",
     "output_type": "stream",
     "text": [
      "CPU times: user 3.01 s, sys: 99.5 ms, total: 3.11 s\n",
      "Wall time: 3.04 s\n"
     ]
    }
   ],
   "source": [
    "%%time\n",
    "att48_2swap_df = experiment(\"data/att48_d.txt\", generate_2swap_neighbor, \"SA 2-swap\",\n",
    "                            max_iters=5000, seeds=SEEDS)\n",
    "att48_2opt_df = experiment(\"data/att48_d.txt\", generate_2opt_neighbor, \"SA 2-opt\",\n",
    "                           max_iters=5000, seeds=SEEDS)\n",
    "att48_df = pd.concat([att48_2opt_df, att48_2swap_df])\n",
    "att48_df.to_csv(\"results/sa_att48.csv\", index=False)"
   ],
   "metadata": {
    "collapsed": false,
    "ExecuteTime": {
     "end_time": "2023-09-27T16:07:10.824962865Z",
     "start_time": "2023-09-27T16:07:07.810066848Z"
    }
   },
   "id": "d8156ea70deb7d4d"
  },
  {
   "cell_type": "code",
   "execution_count": null,
   "outputs": [
    {
     "name": "stderr",
     "output_type": "stream",
     "text": [
      "/home/nawat/.cache/pypoetry/virtualenvs/code-SenwC5NH-py3.10/lib/python3.10/site-packages/seaborn/_oldcore.py:1498: FutureWarning: is_categorical_dtype is deprecated and will be removed in a future version. Use isinstance(dtype, CategoricalDtype) instead\n",
      "  if pd.api.types.is_categorical_dtype(vector):\n",
      "/home/nawat/.cache/pypoetry/virtualenvs/code-SenwC5NH-py3.10/lib/python3.10/site-packages/seaborn/_oldcore.py:1498: FutureWarning: is_categorical_dtype is deprecated and will be removed in a future version. Use isinstance(dtype, CategoricalDtype) instead\n",
      "  if pd.api.types.is_categorical_dtype(vector):\n",
      "/home/nawat/.cache/pypoetry/virtualenvs/code-SenwC5NH-py3.10/lib/python3.10/site-packages/seaborn/_oldcore.py:1119: FutureWarning: use_inf_as_na option is deprecated and will be removed in a future version. Convert inf values to NaN before operating instead.\n",
      "  with pd.option_context('mode.use_inf_as_na', True):\n",
      "/home/nawat/.cache/pypoetry/virtualenvs/code-SenwC5NH-py3.10/lib/python3.10/site-packages/seaborn/_oldcore.py:1119: FutureWarning: use_inf_as_na option is deprecated and will be removed in a future version. Convert inf values to NaN before operating instead.\n",
      "  with pd.option_context('mode.use_inf_as_na', True):\n"
     ]
    }
   ],
   "source": [
    "%%time\n",
    "att48_fig, _ = plot(att48_df, 33523)\n",
    "att48_fig.savefig(\"../images/att48_sa\", dpi=600, bbox_inches=\"tight\")"
   ],
   "metadata": {
    "collapsed": false,
    "is_executing": true,
    "ExecuteTime": {
     "start_time": "2023-09-27T16:07:10.827227519Z"
    }
   },
   "id": "ca295ec600f2e839"
  },
  {
   "cell_type": "markdown",
   "source": [
    "# Comparison with Hill Climbing"
   ],
   "metadata": {
    "collapsed": false
   },
   "id": "57085753e3832869"
  },
  {
   "cell_type": "code",
   "execution_count": null,
   "outputs": [],
   "source": [
    "hc_gr17 = pd.read_csv(\"~/muic/ma395_heuristic/homework/hw1/results/gr17.csv\")\n",
    "hc_fri26 = pd.read_csv(\"~/muic/ma395_heuristic/homework/hw1/results/fri26.csv\")\n",
    "hc_att48 = pd.read_csv(\"~/muic/ma395_heuristic/homework/hw1/results/att48.csv\")\n",
    "\n",
    "sa_gr17 = pd.read_csv(\"results/sa_gr17.csv\")\n",
    "sa_fri26 = pd.read_csv(\"results/sa_fri26.csv\")\n",
    "sa_att48 = pd.read_csv(\"results/sa_att48.csv\")\n",
    "\n",
    "gr17 = pd.concat([sa_gr17, hc_gr17]).drop([\"Current cost\", \"Acceptance rate\", \"Trial\"], axis=1)\n",
    "fri26 = pd.concat([sa_fri26, hc_fri26]).drop([\"Current cost\", \"Acceptance rate\", \"Trial\"], axis=1)\n",
    "att48 = pd.concat([sa_att48, hc_att48]).drop([\"Current cost\", \"Acceptance rate\", \"Trial\"], axis=1)"
   ],
   "metadata": {
    "collapsed": false,
    "is_executing": true
   },
   "id": "e6ce13c07fb495d1"
  },
  {
   "cell_type": "code",
   "execution_count": null,
   "outputs": [],
   "source": [
    "plt.axhline(2085, color=\"black\")\n",
    "sns.lineplot(gr17, x=\"Iteration\", y=\"Best cost\", hue=\"Type\")\n",
    "plt.savefig(\"../images/gr17-with-hc.png\", dpi=600, bbox_inches=\"tight\")"
   ],
   "metadata": {
    "collapsed": false,
    "is_executing": true
   },
   "id": "183a22e7154f40da"
  },
  {
   "cell_type": "code",
   "execution_count": null,
   "outputs": [],
   "source": [
    "plt.axhline(937, color=\"black\")\n",
    "sns.lineplot(fri26, x=\"Iteration\", y=\"Best cost\", hue=\"Type\")\n",
    "plt.savefig(\"../images/fri26-with-hc.png\", dpi=600, bbox_inches=\"tight\")"
   ],
   "metadata": {
    "collapsed": false,
    "is_executing": true
   },
   "id": "21131df9a86a20d0"
  },
  {
   "cell_type": "code",
   "execution_count": null,
   "outputs": [],
   "source": [
    "%%time\n",
    "plt.axhline(33523, color=\"black\")\n",
    "sns.lineplot(att48, x=\"Iteration\", y=\"Best cost\", hue=\"Type\")\n",
    "plt.savefig(\"../images/att48-with-hc.png\", dpi=600, bbox_inches=\"tight\")"
   ],
   "metadata": {
    "collapsed": false,
    "is_executing": true
   },
   "id": "830ecfbf3bd3b3f7"
  }
 ],
 "metadata": {
  "kernelspec": {
   "display_name": "Python 3",
   "language": "python",
   "name": "python3"
  },
  "language_info": {
   "codemirror_mode": {
    "name": "ipython",
    "version": 2
   },
   "file_extension": ".py",
   "mimetype": "text/x-python",
   "name": "python",
   "nbconvert_exporter": "python",
   "pygments_lexer": "ipython2",
   "version": "2.7.6"
  }
 },
 "nbformat": 4,
 "nbformat_minor": 5
}
