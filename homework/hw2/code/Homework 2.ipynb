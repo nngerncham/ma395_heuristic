{
 "cells": [
  {
   "cell_type": "code",
   "execution_count": null,
   "id": "initial_id",
   "metadata": {
    "collapsed": true
   },
   "outputs": [],
   "source": [
    "from simulated_annealing.algorithm import simple_simulated_annealing, SAResult\n",
    "from simulated_annealing.neighbors_generator import generate_2opt_neighbor, generate_2swap_neighbor\n",
    "\n",
    "import pandas as pd\n",
    "import numpy as np\n",
    "from numpy.random import default_rng\n",
    "from typing import Callable, List, TypeVar, Tuple\n",
    "import seaborn as sns\n",
    "import matplotlib.pylab as plt\n",
    "\n",
    "T = TypeVar(\"T\")\n",
    "REPS = 10"
   ]
  },
  {
   "cell_type": "code",
   "execution_count": null,
   "outputs": [],
   "source": [
    "def shape_progress(result: SAResult) -> pd.DataFrame:\n",
    "    return pd.DataFrame({\n",
    "        \"Iteration\": np.arange(len(result.b_progress)),\n",
    "        \"Best cost\": result.b_progress,\n",
    "        \"Current cost\": result.c_progress,\n",
    "        \"Acceptance rate\": result.acceptance_rate,\n",
    "    })\n",
    "\n",
    "\n",
    "def shuffle(lst: List[T]) -> List[T]:\n",
    "    rng = default_rng()\n",
    "    lst_cp = lst.copy()\n",
    "    rng.shuffle(lst_cp)\n",
    "    return lst_cp\n",
    "\n",
    "\n",
    "def generate_path_distance_computer(fp: str) -> Tuple[Callable[[List[int]], float], int]:\n",
    "    data = np.loadtxt(fp)\n",
    "    n = data.shape[0]\n",
    "\n",
    "    def compute_pd(path: List[int]) -> float:\n",
    "        return np.sum([data[path[i], path[(i + 1) % n]] for i in range(n)])\n",
    "\n",
    "    return compute_pd, n\n",
    "\n",
    "\n",
    "def experiment(data_set: str,\n",
    "               nbr: Callable[[List[int]], List[int]],\n",
    "               name: str,\n",
    "               max_iters=10_000,\n",
    "               seeds=np.random.randint(100, size=REPS),\n",
    "               temp_factor=0.95,\n",
    "               initial_temp=10_000) -> pd.DataFrame:\n",
    "    obj_f, n = generate_path_distance_computer(data_set)\n",
    "    results = []\n",
    "\n",
    "    for i in range(REPS):\n",
    "        np.random.seed(seeds[i])\n",
    "        s0 = shuffle([i for i in range(n)])\n",
    "        results.append(\n",
    "            simple_simulated_annealing(obj_f, nbr, s0,\n",
    "                                       temp_factor=temp_factor,\n",
    "                                       initial_temperature=initial_temp,\n",
    "                                       max_iterations=max_iters)\n",
    "        )\n",
    "\n",
    "    df = pd.concat([shape_progress(r) for r in results])\n",
    "    df[\"Neighbor method\"] = name\n",
    "    return df"
   ],
   "metadata": {
    "collapsed": false
   },
   "id": "4e14579c45b6c503"
  },
  {
   "cell_type": "code",
   "execution_count": null,
   "outputs": [],
   "source": [
    "def plot(df: pd.DataFrame, optimal: float) -> Tuple[plt.Figure, Tuple]:\n",
    "    fig, (a1, a2, a3) = plt.subplots(1, 3, width_ratios=[0.3, 0.35, 0.35], figsize=(10, 3))\n",
    "    sns.lineplot(df, x=\"Iteration\", y=\"Acceptance rate\", ax=a1)\n",
    "    a2.axhline(optimal, color=\"black\")\n",
    "    sns.lineplot(df, x=\"Iteration\", y=\"Best cost\", hue=\"Neighbor method\", ax=a2)\n",
    "    a3.axhline(optimal, color=\"black\")\n",
    "    sns.lineplot(df, x=\"Iteration\", y=\"Current cost\", hue=\"Neighbor method\", ax=a3)\n",
    "    \n",
    "    return fig, (a1, a2, a3)"
   ],
   "metadata": {
    "collapsed": false
   },
   "id": "fb7b87d0460e14b2"
  },
  {
   "cell_type": "code",
   "execution_count": null,
   "outputs": [],
   "source": [
    "gr17_2swap_df = experiment(\"data/gr17_d.txt\", generate_2swap_neighbor, \"2-swap\",\n",
    "                           max_iters=1500, initial_temp=1000, temp_factor=0.99)\n",
    "gr17_2opt_df = experiment(\"data/gr17_d.txt\", generate_2opt_neighbor, \"2-opt\",\n",
    "                          max_iters=1500, initial_temp=1000, temp_factor=0.99)\n",
    "gr17_df = pd.concat([gr17_2swap_df, gr17_2opt_df])\n",
    "gr17_df"
   ],
   "metadata": {
    "collapsed": false
   },
   "id": "a3f0220ba35d99eb"
  },
  {
   "cell_type": "code",
   "execution_count": null,
   "outputs": [],
   "source": [
    "gr17_fig, _ = plot(gr17_df, 2085)\n",
    "gr17_fig.savefig(\"../images/gr17_sa\", dpi=600, bbox_inches=\"tight\")"
   ],
   "metadata": {
    "collapsed": false
   },
   "id": "7fe26afb47c3c84d"
  },
  {
   "cell_type": "code",
   "execution_count": null,
   "outputs": [],
   "source": [
    "fri26_2swap_df = experiment(\"data/fri26_d.txt\", generate_2swap_neighbor, \"2-swap\",\n",
    "                           max_iters=2500, initial_temp=1000, temp_factor=0.99)\n",
    "fri26_2opt_df = experiment(\"data/fri26_d.txt\", generate_2opt_neighbor, \"2-opt\",\n",
    "                          max_iters=2500, initial_temp=1000, temp_factor=0.99)\n",
    "fri26_df = pd.concat([gr17_2swap_df, gr17_2opt_df])\n",
    "fri26_df"
   ],
   "metadata": {
    "collapsed": false
   },
   "id": "6037b756ec5c9ef6"
  },
  {
   "cell_type": "code",
   "execution_count": null,
   "outputs": [],
   "source": [
    "fri26_fig, _ = plot(fri26_df, 937)\n",
    "fri26_fig.savefig(\"../images/fri26_sa\", dpi=600, bbox_inches=\"tight\")"
   ],
   "metadata": {
    "collapsed": false
   },
   "id": "727ed245110ae711"
  },
  {
   "cell_type": "code",
   "execution_count": null,
   "outputs": [],
   "source": [
    "att48_2swap_df = experiment(\"data/fri26_d.txt\", generate_2swap_neighbor, \"2-swap\",\n",
    "                           max_iters=2500, initial_temp=1000, temp_factor=0.99)\n",
    "att48_2opt_df = experiment(\"data/fri26_d.txt\", generate_2opt_neighbor, \"2-opt\",\n",
    "                          max_iters=2500, initial_temp=1000, temp_factor=0.99)\n",
    "att48_df = pd.concat([gr17_2swap_df, gr17_2opt_df])\n",
    "att48_df"
   ],
   "metadata": {
    "collapsed": false
   },
   "id": "d8156ea70deb7d4d"
  },
  {
   "cell_type": "code",
   "execution_count": null,
   "outputs": [],
   "source": [
    "att48_fig, _ = plot(att48_df, 33523)\n",
    "att48_fig.savefig(\"../images/att48_sa\", dpi=600, bbox_inches=\"tight\")"
   ],
   "metadata": {
    "collapsed": false
   },
   "id": "ca295ec600f2e839"
  }
 ],
 "metadata": {
  "kernelspec": {
   "display_name": "Python 3",
   "language": "python",
   "name": "python3"
  },
  "language_info": {
   "codemirror_mode": {
    "name": "ipython",
    "version": 2
   },
   "file_extension": ".py",
   "mimetype": "text/x-python",
   "name": "python",
   "nbconvert_exporter": "python",
   "pygments_lexer": "ipython2",
   "version": "2.7.6"
  }
 },
 "nbformat": 4,
 "nbformat_minor": 5
}
