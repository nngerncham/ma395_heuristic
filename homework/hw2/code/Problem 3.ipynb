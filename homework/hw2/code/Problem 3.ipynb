{
 "cells": [
  {
   "cell_type": "markdown",
   "id": "cbad8ab8-cdf7-4126-b50a-ee0927da01bd",
   "metadata": {},
   "source": [
    "# In-class Homework for 5-state SA"
   ]
  },
  {
   "cell_type": "code",
   "execution_count": 1,
   "id": "ddd42f49-32ca-4627-baf1-687cb626cd93",
   "metadata": {},
   "outputs": [],
   "source": [
    "%display typeset"
   ]
  },
  {
   "cell_type": "code",
   "execution_count": 2,
   "id": "initial_id",
   "metadata": {},
   "outputs": [
    {
     "data": {
      "text/html": [
       "<html>\\(\\displaystyle \\left(\\left(\\begin{array}{rrrrr}\n",
       "\\frac{1}{3} & 0 & \\frac{1}{3} & \\frac{1}{3} & 0 \\\\\n",
       "0 & \\frac{1}{4} & \\frac{1}{4} & \\frac{1}{4} & \\frac{1}{4} \\\\\n",
       "\\frac{1}{3} & \\frac{1}{3} & \\frac{1}{3} & 0 & 0 \\\\\n",
       "\\frac{1}{4} & \\frac{1}{4} & 0 & \\frac{1}{4} & \\frac{1}{4} \\\\\n",
       "0 & \\frac{1}{3} & 0 & \\frac{1}{3} & \\frac{1}{3}\n",
       "\\end{array}\\right), \\left(\\begin{array}{rrrrr}\n",
       "1 & e^{\\left(-\\frac{1}{T}\\right)} & e^{\\left(-\\frac{2}{T}\\right)} & e^{\\left(-\\frac{3}{T}\\right)} & 1 \\\\\n",
       "1 & 1 & e^{\\left(-\\frac{1}{T}\\right)} & e^{\\left(-\\frac{2}{T}\\right)} & 1 \\\\\n",
       "1 & 1 & 1 & e^{\\left(-\\frac{1}{T}\\right)} & 1 \\\\\n",
       "1 & 1 & 1 & 1 & 1 \\\\\n",
       "1 & e^{\\left(-\\frac{1}{T}\\right)} & e^{\\left(-\\frac{2}{T}\\right)} & e^{\\left(-\\frac{3}{T}\\right)} & 1\n",
       "\\end{array}\\right)\\right)\\)</html>"
      ],
      "text/latex": [
       "$\\displaystyle \\left(\\left(\\begin{array}{rrrrr}\n",
       "\\frac{1}{3} & 0 & \\frac{1}{3} & \\frac{1}{3} & 0 \\\\\n",
       "0 & \\frac{1}{4} & \\frac{1}{4} & \\frac{1}{4} & \\frac{1}{4} \\\\\n",
       "\\frac{1}{3} & \\frac{1}{3} & \\frac{1}{3} & 0 & 0 \\\\\n",
       "\\frac{1}{4} & \\frac{1}{4} & 0 & \\frac{1}{4} & \\frac{1}{4} \\\\\n",
       "0 & \\frac{1}{3} & 0 & \\frac{1}{3} & \\frac{1}{3}\n",
       "\\end{array}\\right), \\left(\\begin{array}{rrrrr}\n",
       "1 & e^{\\left(-\\frac{1}{T}\\right)} & e^{\\left(-\\frac{2}{T}\\right)} & e^{\\left(-\\frac{3}{T}\\right)} & 1 \\\\\n",
       "1 & 1 & e^{\\left(-\\frac{1}{T}\\right)} & e^{\\left(-\\frac{2}{T}\\right)} & 1 \\\\\n",
       "1 & 1 & 1 & e^{\\left(-\\frac{1}{T}\\right)} & 1 \\\\\n",
       "1 & 1 & 1 & 1 & 1 \\\\\n",
       "1 & e^{\\left(-\\frac{1}{T}\\right)} & e^{\\left(-\\frac{2}{T}\\right)} & e^{\\left(-\\frac{3}{T}\\right)} & 1\n",
       "\\end{array}\\right)\\right)$"
      ],
      "text/plain": [
       "(\n",
       "[1/3   0 1/3 1/3   0]  [       1 e^(-1/T) e^(-2/T) e^(-3/T)        1]\n",
       "[  0 1/4 1/4 1/4 1/4]  [       1        1 e^(-1/T) e^(-2/T)        1]\n",
       "[1/3 1/3 1/3   0   0]  [       1        1        1 e^(-1/T)        1]\n",
       "[1/4 1/4   0 1/4 1/4]  [       1        1        1        1        1]\n",
       "[  0 1/3   0 1/3 1/3], [       1 e^(-1/T) e^(-2/T) e^(-3/T)        1]\n",
       ")"
      ]
     },
     "execution_count": 2,
     "metadata": {},
     "output_type": "execute_result"
    }
   ],
   "source": [
    "P = Matrix([\n",
    "    [1/3, 0, 1/3, 1/3, 0],\n",
    "    [0, 1/4, 1/4, 1/4, 1/4],\n",
    "    [1/3, 1/3, 1/3, 0, 0],\n",
    "    [1/4, 1/4, 0, 1/4, 1/4],\n",
    "    [0, 1/3, 0, 1/3, 1/3],\n",
    "])\n",
    "\n",
    "T = var(\"T\")\n",
    "\n",
    "A = Matrix([\n",
    "    [1, exp(-1/T), exp(-2/T), exp(-3/T), 1],\n",
    "    [1, 1, exp(-1/T), exp(-2/T), 1],\n",
    "    [1, 1, 1, exp(-1/T), 1],\n",
    "    [1, 1, 1, 1, 1],\n",
    "    [1, exp(-1/T), exp(-2/T), exp(-3/T), 1],\n",
    "])\n",
    "\n",
    "P, A"
   ]
  },
  {
   "cell_type": "code",
   "execution_count": 3,
   "id": "9aba55c0-e5e7-4cd1-b840-1223c5ac962e",
   "metadata": {},
   "outputs": [
    {
     "data": {
      "text/html": [
       "<html>\\(\\displaystyle \\left(\\begin{array}{rrrrr}\n",
       "-\\frac{1}{3} \\, e^{\\left(-\\frac{2}{T}\\right)} - \\frac{1}{3} \\, e^{\\left(-\\frac{3}{T}\\right)} + 1 & 0 & \\frac{1}{3} \\, e^{\\left(-\\frac{2}{T}\\right)} & \\frac{1}{3} \\, e^{\\left(-\\frac{3}{T}\\right)} & 0 \\\\\n",
       "0 & -\\frac{1}{4} \\, e^{\\left(-\\frac{1}{T}\\right)} - \\frac{1}{4} \\, e^{\\left(-\\frac{2}{T}\\right)} + \\frac{3}{4} & \\frac{1}{4} \\, e^{\\left(-\\frac{1}{T}\\right)} & \\frac{1}{4} \\, e^{\\left(-\\frac{2}{T}\\right)} & \\frac{1}{4} \\\\\n",
       "\\frac{1}{3} & \\frac{1}{3} & \\frac{1}{3} & 0 & 0 \\\\\n",
       "\\frac{1}{4} & \\frac{1}{4} & 0 & \\frac{1}{4} & \\frac{1}{4} \\\\\n",
       "0 & \\frac{1}{3} \\, e^{\\left(-\\frac{1}{T}\\right)} & 0 & \\frac{1}{3} \\, e^{\\left(-\\frac{3}{T}\\right)} & -\\frac{1}{3} \\, e^{\\left(-\\frac{1}{T}\\right)} - \\frac{1}{3} \\, e^{\\left(-\\frac{3}{T}\\right)} + 1\n",
       "\\end{array}\\right)\\)</html>"
      ],
      "text/latex": [
       "$\\displaystyle \\left(\\begin{array}{rrrrr}\n",
       "-\\frac{1}{3} \\, e^{\\left(-\\frac{2}{T}\\right)} - \\frac{1}{3} \\, e^{\\left(-\\frac{3}{T}\\right)} + 1 & 0 & \\frac{1}{3} \\, e^{\\left(-\\frac{2}{T}\\right)} & \\frac{1}{3} \\, e^{\\left(-\\frac{3}{T}\\right)} & 0 \\\\\n",
       "0 & -\\frac{1}{4} \\, e^{\\left(-\\frac{1}{T}\\right)} - \\frac{1}{4} \\, e^{\\left(-\\frac{2}{T}\\right)} + \\frac{3}{4} & \\frac{1}{4} \\, e^{\\left(-\\frac{1}{T}\\right)} & \\frac{1}{4} \\, e^{\\left(-\\frac{2}{T}\\right)} & \\frac{1}{4} \\\\\n",
       "\\frac{1}{3} & \\frac{1}{3} & \\frac{1}{3} & 0 & 0 \\\\\n",
       "\\frac{1}{4} & \\frac{1}{4} & 0 & \\frac{1}{4} & \\frac{1}{4} \\\\\n",
       "0 & \\frac{1}{3} \\, e^{\\left(-\\frac{1}{T}\\right)} & 0 & \\frac{1}{3} \\, e^{\\left(-\\frac{3}{T}\\right)} & -\\frac{1}{3} \\, e^{\\left(-\\frac{1}{T}\\right)} - \\frac{1}{3} \\, e^{\\left(-\\frac{3}{T}\\right)} + 1\n",
       "\\end{array}\\right)$"
      ],
      "text/plain": [
       "[  -1/3*e^(-2/T) - 1/3*e^(-3/T) + 1                                  0                       1/3*e^(-2/T)                       1/3*e^(-3/T)                                  0]\n",
       "[                                 0 -1/4*e^(-1/T) - 1/4*e^(-2/T) + 3/4                       1/4*e^(-1/T)                       1/4*e^(-2/T)                                1/4]\n",
       "[                               1/3                                1/3                                1/3                                  0                                  0]\n",
       "[                               1/4                                1/4                                  0                                1/4                                1/4]\n",
       "[                                 0                       1/3*e^(-1/T)                                  0                       1/3*e^(-3/T)   -1/3*e^(-1/T) - 1/3*e^(-3/T) + 1]"
      ]
     },
     "execution_count": 3,
     "metadata": {},
     "output_type": "execute_result"
    }
   ],
   "source": [
    "n = 5\n",
    "Theta = Matrix([[P[i, j] * A[i, j] for j in range(n)] for i in range(n)])\n",
    "for i in range(n):\n",
    "    Theta[i, i] = 1 - sum([Theta[i, j] for j in range(n) if j != i])\n",
    "Theta"
   ]
  },
  {
   "cell_type": "code",
   "execution_count": 4,
   "id": "feee7c13-554c-4cdb-bb51-216b556d4114",
   "metadata": {},
   "outputs": [
    {
     "data": {
      "text/html": [
       "<html>\\(\\displaystyle \\left(\\pi_{1},\\,\\pi_{2},\\,\\pi_{3},\\,\\pi_{4},\\,\\pi_{5}\\right)\\)</html>"
      ],
      "text/latex": [
       "$\\displaystyle \\left(\\pi_{1},\\,\\pi_{2},\\,\\pi_{3},\\,\\pi_{4},\\,\\pi_{5}\\right)$"
      ],
      "text/plain": [
       "(pi1, pi2, pi3, pi4, pi5)"
      ]
     },
     "execution_count": 4,
     "metadata": {},
     "output_type": "execute_result"
    }
   ],
   "source": [
    "var(\"pi1 pi2 pi3 pi4 pi5\")\n",
    "pi = vector([pi1, pi2, pi3, pi4, pi5])\n",
    "pi"
   ]
  },
  {
   "cell_type": "code",
   "execution_count": 5,
   "id": "e459337a-7805-4be7-b6e0-ca6c430452f2",
   "metadata": {},
   "outputs": [
    {
     "data": {
      "text/html": [
       "<html>\\(\\displaystyle \\left[\\pi_{1} = \\frac{3 \\, e^{\\frac{3}{T}}}{6 \\, e^{\\frac{3}{T}} + 4 \\, e^{\\frac{2}{T}} + 3 \\, e^{\\frac{1}{T}} + 4}, \\pi_{2} = \\frac{4 \\, e^{\\frac{2}{T}}}{6 \\, e^{\\frac{3}{T}} + 4 \\, e^{\\frac{2}{T}} + 3 \\, e^{\\frac{1}{T}} + 4}, \\pi_{3} = \\frac{3 \\, e^{\\frac{1}{T}}}{6 \\, e^{\\frac{3}{T}} + 4 \\, e^{\\frac{2}{T}} + 3 \\, e^{\\frac{1}{T}} + 4}, \\pi_{4} = \\frac{4}{6 \\, e^{\\frac{3}{T}} + 4 \\, e^{\\frac{2}{T}} + 3 \\, e^{\\frac{1}{T}} + 4}, \\pi_{5} = \\frac{3 \\, e^{\\frac{3}{T}}}{6 \\, e^{\\frac{3}{T}} + 4 \\, e^{\\frac{2}{T}} + 3 \\, e^{\\frac{1}{T}} + 4}\\right]\\)</html>"
      ],
      "text/latex": [
       "$\\displaystyle \\left[\\pi_{1} = \\frac{3 \\, e^{\\frac{3}{T}}}{6 \\, e^{\\frac{3}{T}} + 4 \\, e^{\\frac{2}{T}} + 3 \\, e^{\\frac{1}{T}} + 4}, \\pi_{2} = \\frac{4 \\, e^{\\frac{2}{T}}}{6 \\, e^{\\frac{3}{T}} + 4 \\, e^{\\frac{2}{T}} + 3 \\, e^{\\frac{1}{T}} + 4}, \\pi_{3} = \\frac{3 \\, e^{\\frac{1}{T}}}{6 \\, e^{\\frac{3}{T}} + 4 \\, e^{\\frac{2}{T}} + 3 \\, e^{\\frac{1}{T}} + 4}, \\pi_{4} = \\frac{4}{6 \\, e^{\\frac{3}{T}} + 4 \\, e^{\\frac{2}{T}} + 3 \\, e^{\\frac{1}{T}} + 4}, \\pi_{5} = \\frac{3 \\, e^{\\frac{3}{T}}}{6 \\, e^{\\frac{3}{T}} + 4 \\, e^{\\frac{2}{T}} + 3 \\, e^{\\frac{1}{T}} + 4}\\right]$"
      ],
      "text/plain": [
       "[pi1 == 3*e^(3/T)/(6*e^(3/T) + 4*e^(2/T) + 3*e^(1/T) + 4),\n",
       " pi2 == 4*e^(2/T)/(6*e^(3/T) + 4*e^(2/T) + 3*e^(1/T) + 4),\n",
       " pi3 == 3*e^(1/T)/(6*e^(3/T) + 4*e^(2/T) + 3*e^(1/T) + 4),\n",
       " pi4 == 4/(6*e^(3/T) + 4*e^(2/T) + 3*e^(1/T) + 4),\n",
       " pi5 == 3*e^(3/T)/(6*e^(3/T) + 4*e^(2/T) + 3*e^(1/T) + 4)]"
      ]
     },
     "execution_count": 5,
     "metadata": {},
     "output_type": "execute_result"
    }
   ],
   "source": [
    "piTheta = pi * Theta\n",
    "[soln] = solve([\n",
    "    pi1 == piTheta[0],\n",
    "    pi2 == piTheta[1],\n",
    "    pi3 == piTheta[2],\n",
    "    pi4 == piTheta[3],\n",
    "    pi5 == piTheta[4],\n",
    "    1 == sum([pi1, pi2, pi3, pi4, pi5]),\n",
    "], pi1, pi2, pi3, pi4, pi5)\n",
    "\n",
    "soln"
   ]
  },
  {
   "cell_type": "code",
   "execution_count": 6,
   "id": "dd623835-b82f-42f5-8ce9-5d7b27777f94",
   "metadata": {},
   "outputs": [],
   "source": [
    "# print(latex(soln))"
   ]
  },
  {
   "cell_type": "code",
   "execution_count": 7,
   "id": "35d3dd64-e83f-41a9-ad89-560cbb974afb",
   "metadata": {},
   "outputs": [
    {
     "data": {
      "text/html": [
       "<html>\\(\\displaystyle \\left(-\\frac{1}{3} \\, \\pi_{1} {\\left(e^{\\left(-\\frac{2}{T}\\right)} + e^{\\left(-\\frac{3}{T}\\right)} - 3\\right)} + \\frac{1}{3} \\, \\pi_{3} + \\frac{1}{4} \\, \\pi_{4},\\,-\\frac{1}{4} \\, \\pi_{2} {\\left(e^{\\left(-\\frac{1}{T}\\right)} + e^{\\left(-\\frac{2}{T}\\right)} - 3\\right)} + \\frac{1}{3} \\, \\pi_{5} e^{\\left(-\\frac{1}{T}\\right)} + \\frac{1}{3} \\, \\pi_{3} + \\frac{1}{4} \\, \\pi_{4},\\,\\frac{1}{4} \\, \\pi_{2} e^{\\left(-\\frac{1}{T}\\right)} + \\frac{1}{3} \\, \\pi_{1} e^{\\left(-\\frac{2}{T}\\right)} + \\frac{1}{3} \\, \\pi_{3},\\,\\frac{1}{4} \\, \\pi_{2} e^{\\left(-\\frac{2}{T}\\right)} + \\frac{1}{3} \\, \\pi_{1} e^{\\left(-\\frac{3}{T}\\right)} + \\frac{1}{3} \\, \\pi_{5} e^{\\left(-\\frac{3}{T}\\right)} + \\frac{1}{4} \\, \\pi_{4},\\,-\\frac{1}{3} \\, \\pi_{5} {\\left(e^{\\left(-\\frac{1}{T}\\right)} + e^{\\left(-\\frac{3}{T}\\right)} - 3\\right)} + \\frac{1}{4} \\, \\pi_{2} + \\frac{1}{4} \\, \\pi_{4}\\right)\\)</html>"
      ],
      "text/latex": [
       "$\\displaystyle \\left(-\\frac{1}{3} \\, \\pi_{1} {\\left(e^{\\left(-\\frac{2}{T}\\right)} + e^{\\left(-\\frac{3}{T}\\right)} - 3\\right)} + \\frac{1}{3} \\, \\pi_{3} + \\frac{1}{4} \\, \\pi_{4},\\,-\\frac{1}{4} \\, \\pi_{2} {\\left(e^{\\left(-\\frac{1}{T}\\right)} + e^{\\left(-\\frac{2}{T}\\right)} - 3\\right)} + \\frac{1}{3} \\, \\pi_{5} e^{\\left(-\\frac{1}{T}\\right)} + \\frac{1}{3} \\, \\pi_{3} + \\frac{1}{4} \\, \\pi_{4},\\,\\frac{1}{4} \\, \\pi_{2} e^{\\left(-\\frac{1}{T}\\right)} + \\frac{1}{3} \\, \\pi_{1} e^{\\left(-\\frac{2}{T}\\right)} + \\frac{1}{3} \\, \\pi_{3},\\,\\frac{1}{4} \\, \\pi_{2} e^{\\left(-\\frac{2}{T}\\right)} + \\frac{1}{3} \\, \\pi_{1} e^{\\left(-\\frac{3}{T}\\right)} + \\frac{1}{3} \\, \\pi_{5} e^{\\left(-\\frac{3}{T}\\right)} + \\frac{1}{4} \\, \\pi_{4},\\,-\\frac{1}{3} \\, \\pi_{5} {\\left(e^{\\left(-\\frac{1}{T}\\right)} + e^{\\left(-\\frac{3}{T}\\right)} - 3\\right)} + \\frac{1}{4} \\, \\pi_{2} + \\frac{1}{4} \\, \\pi_{4}\\right)$"
      ],
      "text/plain": [
       "(-1/3*pi1*(e^(-2/T) + e^(-3/T) - 3) + 1/3*pi3 + 1/4*pi4, -1/4*pi2*(e^(-1/T) + e^(-2/T) - 3) + 1/3*pi5*e^(-1/T) + 1/3*pi3 + 1/4*pi4, 1/4*pi2*e^(-1/T) + 1/3*pi1*e^(-2/T) + 1/3*pi3, 1/4*pi2*e^(-2/T) + 1/3*pi1*e^(-3/T) + 1/3*pi5*e^(-3/T) + 1/4*pi4, -1/3*pi5*(e^(-1/T) + e^(-3/T) - 3) + 1/4*pi2 + 1/4*pi4)"
      ]
     },
     "execution_count": 7,
     "metadata": {},
     "output_type": "execute_result"
    }
   ],
   "source": [
    "piTheta"
   ]
  },
  {
   "cell_type": "code",
   "execution_count": 8,
   "id": "efb939da-ec9f-42df-a034-3460b868a65c",
   "metadata": {},
   "outputs": [],
   "source": [
    "# print(latex(piTheta))"
   ]
  },
  {
   "cell_type": "code",
   "execution_count": 9,
   "id": "ef581705-e8ac-453b-8ad6-d321ea9a667a",
   "metadata": {},
   "outputs": [
    {
     "data": {
      "text/html": [
       "<html>\\(\\displaystyle \\left(\\frac{3 \\, e^{\\frac{3}{T}}}{6 \\, e^{\\frac{3}{T}} + 4 \\, e^{\\frac{2}{T}} + 3 \\, e^{\\frac{1}{T}} + 4},\\,\\frac{4 \\, e^{\\frac{2}{T}}}{6 \\, e^{\\frac{3}{T}} + 4 \\, e^{\\frac{2}{T}} + 3 \\, e^{\\frac{1}{T}} + 4},\\,\\frac{3 \\, e^{\\frac{1}{T}}}{6 \\, e^{\\frac{3}{T}} + 4 \\, e^{\\frac{2}{T}} + 3 \\, e^{\\frac{1}{T}} + 4},\\,\\frac{4}{6 \\, e^{\\frac{3}{T}} + 4 \\, e^{\\frac{2}{T}} + 3 \\, e^{\\frac{1}{T}} + 4},\\,\\frac{3 \\, e^{\\frac{3}{T}}}{6 \\, e^{\\frac{3}{T}} + 4 \\, e^{\\frac{2}{T}} + 3 \\, e^{\\frac{1}{T}} + 4}\\right)\\)</html>"
      ],
      "text/latex": [
       "$\\displaystyle \\left(\\frac{3 \\, e^{\\frac{3}{T}}}{6 \\, e^{\\frac{3}{T}} + 4 \\, e^{\\frac{2}{T}} + 3 \\, e^{\\frac{1}{T}} + 4},\\,\\frac{4 \\, e^{\\frac{2}{T}}}{6 \\, e^{\\frac{3}{T}} + 4 \\, e^{\\frac{2}{T}} + 3 \\, e^{\\frac{1}{T}} + 4},\\,\\frac{3 \\, e^{\\frac{1}{T}}}{6 \\, e^{\\frac{3}{T}} + 4 \\, e^{\\frac{2}{T}} + 3 \\, e^{\\frac{1}{T}} + 4},\\,\\frac{4}{6 \\, e^{\\frac{3}{T}} + 4 \\, e^{\\frac{2}{T}} + 3 \\, e^{\\frac{1}{T}} + 4},\\,\\frac{3 \\, e^{\\frac{3}{T}}}{6 \\, e^{\\frac{3}{T}} + 4 \\, e^{\\frac{2}{T}} + 3 \\, e^{\\frac{1}{T}} + 4}\\right)$"
      ],
      "text/plain": [
       "(3*e^(3/T)/(6*e^(3/T) + 4*e^(2/T) + 3*e^(1/T) + 4), 4*e^(2/T)/(6*e^(3/T) + 4*e^(2/T) + 3*e^(1/T) + 4), 3*e^(1/T)/(6*e^(3/T) + 4*e^(2/T) + 3*e^(1/T) + 4), 4/(6*e^(3/T) + 4*e^(2/T) + 3*e^(1/T) + 4), 3*e^(3/T)/(6*e^(3/T) + 4*e^(2/T) + 3*e^(1/T) + 4))"
      ]
     },
     "execution_count": 9,
     "metadata": {},
     "output_type": "execute_result"
    }
   ],
   "source": [
    "pi_soln = vector([s.rhs() for s in soln])\n",
    "pi_soln.simplify_full()"
   ]
  },
  {
   "cell_type": "code",
   "execution_count": 10,
   "id": "6455af73-d85e-463e-a476-1148582088ca",
   "metadata": {},
   "outputs": [
    {
     "data": {
      "text/html": [
       "<html>\\(\\displaystyle \\left[\\frac{1}{2}, 0, 0, 0, \\frac{1}{2}\\right]\\)</html>"
      ],
      "text/latex": [
       "$\\displaystyle \\left[\\frac{1}{2}, 0, 0, 0, \\frac{1}{2}\\right]$"
      ],
      "text/plain": [
       "[1/2, 0, 0, 0, 1/2]"
      ]
     },
     "execution_count": 10,
     "metadata": {},
     "output_type": "execute_result"
    }
   ],
   "source": [
    "limit = [lim(component.rhs().simplify_full(), T = 0, dir='+') for component in soln]\n",
    "limit"
   ]
  },
  {
   "cell_type": "markdown",
   "id": "5de540d7-8a4e-4aac-a212-ea86ec5a23ba",
   "metadata": {},
   "source": [
    "Need to make sure that you approach from the right since the limit wouldn't exist otherwise. That is, once you have $\\pi(T)$, the limit you take is\n",
    "$$ \\lim_{T \\to 0^+} \\pi(T) $$"
   ]
  },
  {
   "cell_type": "code",
   "execution_count": 11,
   "id": "d4a7d2c4-3ddf-4a39-a6f8-1b5ead03e16f",
   "metadata": {},
   "outputs": [
    {
     "data": {
      "image/png": "[encoded data removed]",
      "text/plain": [
       "Graphics object consisting of 2 graphics primitives"
      ]
     },
     "execution_count": 11,
     "metadata": {},
     "output_type": "execute_result"
    }
   ],
   "source": [
    "plot(soln[0].rhs())"
   ]
  }
 ],
 "metadata": {
  "kernelspec": {
   "display_name": "SageMath 10.1",
   "language": "sage",
   "name": "sagemath"
  },
  "language_info": {
   "codemirror_mode": {
    "name": "ipython",
    "version": 3
   },
   "file_extension": ".py",
   "mimetype": "text/x-python",
   "name": "python",
   "nbconvert_exporter": "python",
   "pygments_lexer": "ipython3",
   "version": "3.11.5"
  }
 },
 "nbformat": 4,
 "nbformat_minor": 5
}
