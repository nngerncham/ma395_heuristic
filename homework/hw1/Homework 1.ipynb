{
 "cells": [
  {
   "cell_type": "markdown",
   "source": [
    "# Homework 1\n",
    "\n",
    "#### Nawat Ngerncham"
   ],
   "metadata": {
    "collapsed": false
   },
   "id": "1e8c097a8ce648fe"
  },
  {
   "cell_type": "code",
   "execution_count": 1,
   "outputs": [],
   "source": [
    "import numpy as np\n",
    "import numpy.random as rd\n",
    "import pandas as pd\n",
    "\n",
    "from numpy.random import default_rng\n",
    "from dataclasses import dataclass\n",
    "from typing import List, Callable, Tuple, TypeVar\n",
    "\n",
    "\n",
    "@dataclass\n",
    "class TSPResult:\n",
    "    final_route: List[int]\n",
    "    final_distance: float\n",
    "    progress: pd.DataFrame\n",
    "\n",
    "\n",
    "DEFAULT_N_ITERATIONS = 100_000"
   ],
   "metadata": {
    "collapsed": false,
    "ExecuteTime": {
     "end_time": "2023-09-14T08:47:23.292053Z",
     "start_time": "2023-09-14T08:47:23.041951Z"
    }
   },
   "id": "initial_id"
  },
  {
   "cell_type": "code",
   "execution_count": 2,
   "outputs": [],
   "source": [
    "T = TypeVar(\"T\")\n",
    "\n",
    "\n",
    "def shuffle(lst: List[T]) -> List[T]:\n",
    "    rng = default_rng()\n",
    "    lst_cp = lst.copy()\n",
    "    rng.shuffle(lst_cp)\n",
    "    return lst_cp"
   ],
   "metadata": {
    "collapsed": false,
    "ExecuteTime": {
     "end_time": "2023-09-14T08:47:23.307790Z",
     "start_time": "2023-09-14T08:47:23.295425Z"
    }
   },
   "id": "b99359a962d3d2d2"
  },
  {
   "cell_type": "markdown",
   "source": [
    "## 2-OPT"
   ],
   "metadata": {
    "collapsed": false
   },
   "id": "8d9c03b63c97bbd0"
  },
  {
   "cell_type": "code",
   "execution_count": 3,
   "outputs": [],
   "source": [
    "def random_adj_idx(l: int) -> Tuple[int, int]:\n",
    "    assert l >= 4\n",
    "    pair1 = rd.randint(l)\n",
    "    pair2 = rd.randint(l)\n",
    "\n",
    "    while pair1 - 1 < pair2 < pair1 + 1:\n",
    "        pair2 = rd.randint(l)\n",
    "\n",
    "    return pair1, pair2\n",
    "\n",
    "\n",
    "def two_opt_tsp(cities: List[int],\n",
    "                path_distance: Callable[[List[int]], float],\n",
    "                n_iters: int = DEFAULT_N_ITERATIONS) -> TSPResult:\n",
    "    current_path = cities.copy()\n",
    "    current_dist = path_distance(current_path)\n",
    "    progress = [current_dist]\n",
    "\n",
    "    for _ in range(n_iters):\n",
    "        new_path = current_path.copy()\n",
    "\n",
    "        pi1, pi2 = random_adj_idx(len(cities))\n",
    "        new_path[pi1], new_path[pi2] = current_path[pi2], current_path[pi1]\n",
    "        new_distance = path_distance(new_path)\n",
    "\n",
    "        if new_distance < current_dist:\n",
    "            current_path = new_path\n",
    "            current_dist = new_distance\n",
    "\n",
    "        progress.append(current_dist)\n",
    "\n",
    "    return TSPResult(\n",
    "        final_route=current_path,\n",
    "        final_distance=current_dist,\n",
    "        progress=pd.DataFrame({\"distance\": progress})\n",
    "    )"
   ],
   "metadata": {
    "collapsed": false,
    "ExecuteTime": {
     "end_time": "2023-09-14T08:47:23.320056Z",
     "start_time": "2023-09-14T08:47:23.300576Z"
    }
   },
   "id": "41c58a60eb2b8379"
  },
  {
   "cell_type": "markdown",
   "source": [
    "## Random Sampling"
   ],
   "metadata": {
    "collapsed": false
   },
   "id": "81c606d87d3c9837"
  },
  {
   "cell_type": "code",
   "execution_count": 4,
   "outputs": [],
   "source": [
    "def random_sampling_tsp(cities: List[int],\n",
    "                        path_distance: Callable[[List[int]], float],\n",
    "                        n_iters: int = DEFAULT_N_ITERATIONS) -> TSPResult:\n",
    "    current_path = cities.copy()\n",
    "    current_distance = path_distance(current_path)\n",
    "    dist_progress = [current_distance]\n",
    "\n",
    "    for _ in range(n_iters):\n",
    "        new_path = shuffle(cities.copy())\n",
    "        new_distance = path_distance(new_path)\n",
    "\n",
    "        if new_distance < current_distance:\n",
    "            current_distance = new_distance\n",
    "            current_path = new_path\n",
    "\n",
    "        dist_progress.append(current_distance)\n",
    "\n",
    "    return TSPResult(\n",
    "        final_route=current_path,\n",
    "        final_distance=current_distance,\n",
    "        progress=pd.DataFrame({\"distance\": dist_progress})\n",
    "    )"
   ],
   "metadata": {
    "collapsed": false,
    "ExecuteTime": {
     "end_time": "2023-09-14T08:47:23.324881Z",
     "start_time": "2023-09-14T08:47:23.317382Z"
    }
   },
   "id": "23c8aec39e3d75b9"
  },
  {
   "cell_type": "markdown",
   "source": [
    "## In-class 2-OPT Example"
   ],
   "metadata": {
    "collapsed": false
   },
   "id": "2589a9cbf1aa8455"
  },
  {
   "cell_type": "code",
   "execution_count": 5,
   "outputs": [],
   "source": [
    "def in_class_2opt_distance(x: int, y: int):\n",
    "    dist_matrix = [\n",
    "        [0, 7, 7, 3, 8],\n",
    "        [7, 0, 7, 5, 3],\n",
    "        [7, 7, 0, 8, 5],\n",
    "        [3, 5, 8, 0, 5],\n",
    "        [8, 3, 5, 5, 0]\n",
    "    ]\n",
    "\n",
    "    return dist_matrix[x][y]\n",
    "\n",
    "\n",
    "def in_class_path_distance(path: List[int]):\n",
    "    path_to_use = path + [path[0]]\n",
    "    return np.sum([in_class_2opt_distance(x, y) for x, y in zip(path_to_use[:-1], path_to_use[1:])])"
   ],
   "metadata": {
    "collapsed": false,
    "ExecuteTime": {
     "end_time": "2023-09-14T08:47:23.329853Z",
     "start_time": "2023-09-14T08:47:23.323689Z"
    }
   },
   "id": "44a9a808f07f426e"
  },
  {
   "cell_type": "code",
   "execution_count": 6,
   "outputs": [
    {
     "data": {
      "text/plain": "TSPResult(final_route=[1, 4, 2, 0, 3], final_distance=23, progress=     distance\n0          35\n1          28\n2          28\n3          28\n4          28\n..        ...\n246        23\n247        23\n248        23\n249        23\n250        23\n\n[251 rows x 1 columns])"
     },
     "execution_count": 6,
     "metadata": {},
     "output_type": "execute_result"
    }
   ],
   "source": [
    "random_sampling_tsp([i for i in range(5)], in_class_path_distance, n_iters=250)"
   ],
   "metadata": {
    "collapsed": false,
    "ExecuteTime": {
     "end_time": "2023-09-14T08:47:23.343856Z",
     "start_time": "2023-09-14T08:47:23.328583Z"
    }
   },
   "id": "81833e786f6b31cb"
  },
  {
   "cell_type": "code",
   "execution_count": 7,
   "outputs": [
    {
     "data": {
      "text/plain": "TSPResult(final_route=[0, 2, 4, 1, 3], final_distance=23, progress=     distance\n0          35\n1          29\n2          28\n3          23\n4          23\n..        ...\n246        23\n247        23\n248        23\n249        23\n250        23\n\n[251 rows x 1 columns])"
     },
     "execution_count": 7,
     "metadata": {},
     "output_type": "execute_result"
    }
   ],
   "source": [
    "two_opt_tsp([i for i in range(5)], in_class_path_distance, n_iters=250)"
   ],
   "metadata": {
    "collapsed": false,
    "ExecuteTime": {
     "end_time": "2023-09-14T08:47:23.348817Z",
     "start_time": "2023-09-14T08:47:23.346433Z"
    }
   },
   "id": "ed389263fd1cb345"
  }
 ],
 "metadata": {
  "kernelspec": {
   "display_name": "Python 3",
   "language": "python",
   "name": "python3"
  },
  "language_info": {
   "codemirror_mode": {
    "name": "ipython",
    "version": 2
   },
   "file_extension": ".py",
   "mimetype": "text/x-python",
   "name": "python",
   "nbconvert_exporter": "python",
   "pygments_lexer": "ipython2",
   "version": "2.7.6"
  }
 },
 "nbformat": 4,
 "nbformat_minor": 5
}
