{
 "cells": [
  {
   "cell_type": "markdown",
   "id": "1e8c097a8ce648fe",
   "metadata": {},
   "source": [
    "# Homework 1\n",
    "\n",
    "#### Nawat Ngerncham"
   ]
  },
  {
   "cell_type": "code",
   "execution_count": 1,
   "id": "761eb84c853c9902",
   "metadata": {
    "ExecuteTime": {
     "end_time": "2023-09-28T17:33:06.444195873Z",
     "start_time": "2023-09-28T17:33:06.438052360Z"
    }
   },
   "outputs": [],
   "source": [
    "import matplotlib.pylab as plt\n",
    "import seaborn as sns\n",
    "\n",
    "from experiment import run_experiment\n",
    "\n",
    "to_exclude = [\"full_ts\", \"full_to\", \"random_sample\"]"
   ]
  },
  {
   "cell_type": "markdown",
   "id": "35272e6d7bf0cb8b",
   "metadata": {},
   "source": [
    "## GR17"
   ]
  },
  {
   "cell_type": "code",
   "execution_count": 2,
   "id": "c47b9f51f300dc6f",
   "metadata": {
    "ExecuteTime": {
     "end_time": "2023-09-28T17:33:06.847563238Z",
     "start_time": "2023-09-28T17:33:06.444400187Z"
    }
   },
   "outputs": [
    {
     "name": "stdout",
     "output_type": "stream",
     "text": [
      "CPU times: user 155 ms, sys: 106 ms, total: 261 ms\n",
      "Wall time: 398 ms\n"
     ]
    }
   ],
   "source": [
    "%%time\n",
    "gr17_result = run_experiment(\"data/gr17_d.txt\", to_exclude, 1500)"
   ]
  },
  {
   "cell_type": "code",
   "execution_count": 3,
   "id": "9dce7d9208ed99bb",
   "metadata": {
    "ExecuteTime": {
     "end_time": "2023-09-28T17:33:06.946785957Z",
     "start_time": "2023-09-28T17:33:06.846927906Z"
    }
   },
   "outputs": [
    {
     "data": {
      "text/plain": "       Iteration  Trial  Best cost               Type\n0              0      0       4274  Randomized 2-swap\n1              1      0       4274  Randomized 2-swap\n2              2      0       4274  Randomized 2-swap\n3              3      0       4274  Randomized 2-swap\n4              4      0       4204  Randomized 2-swap\n...          ...    ...        ...                ...\n15005       1496      9       2348   Randomized 2-opt\n15006       1497      9       2348   Randomized 2-opt\n15007       1498      9       2348   Randomized 2-opt\n15008       1499      9       2348   Randomized 2-opt\n15009       1500      9       2348   Randomized 2-opt\n\n[30020 rows x 4 columns]",
      "text/html": "<div>\n<style scoped>\n    .dataframe tbody tr th:only-of-type {\n        vertical-align: middle;\n    }\n\n    .dataframe tbody tr th {\n        vertical-align: top;\n    }\n\n    .dataframe thead th {\n        text-align: right;\n    }\n</style>\n<table border=\"1\" class=\"dataframe\">\n  <thead>\n    <tr style=\"text-align: right;\">\n      <th></th>\n      <th>Iteration</th>\n      <th>Trial</th>\n      <th>Best cost</th>\n      <th>Type</th>\n    </tr>\n  </thead>\n  <tbody>\n    <tr>\n      <th>0</th>\n      <td>0</td>\n      <td>0</td>\n      <td>4274</td>\n      <td>Randomized 2-swap</td>\n    </tr>\n    <tr>\n      <th>1</th>\n      <td>1</td>\n      <td>0</td>\n      <td>4274</td>\n      <td>Randomized 2-swap</td>\n    </tr>\n    <tr>\n      <th>2</th>\n      <td>2</td>\n      <td>0</td>\n      <td>4274</td>\n      <td>Randomized 2-swap</td>\n    </tr>\n    <tr>\n      <th>3</th>\n      <td>3</td>\n      <td>0</td>\n      <td>4274</td>\n      <td>Randomized 2-swap</td>\n    </tr>\n    <tr>\n      <th>4</th>\n      <td>4</td>\n      <td>0</td>\n      <td>4204</td>\n      <td>Randomized 2-swap</td>\n    </tr>\n    <tr>\n      <th>...</th>\n      <td>...</td>\n      <td>...</td>\n      <td>...</td>\n      <td>...</td>\n    </tr>\n    <tr>\n      <th>15005</th>\n      <td>1496</td>\n      <td>9</td>\n      <td>2348</td>\n      <td>Randomized 2-opt</td>\n    </tr>\n    <tr>\n      <th>15006</th>\n      <td>1497</td>\n      <td>9</td>\n      <td>2348</td>\n      <td>Randomized 2-opt</td>\n    </tr>\n    <tr>\n      <th>15007</th>\n      <td>1498</td>\n      <td>9</td>\n      <td>2348</td>\n      <td>Randomized 2-opt</td>\n    </tr>\n    <tr>\n      <th>15008</th>\n      <td>1499</td>\n      <td>9</td>\n      <td>2348</td>\n      <td>Randomized 2-opt</td>\n    </tr>\n    <tr>\n      <th>15009</th>\n      <td>1500</td>\n      <td>9</td>\n      <td>2348</td>\n      <td>Randomized 2-opt</td>\n    </tr>\n  </tbody>\n</table>\n<p>30020 rows × 4 columns</p>\n</div>"
     },
     "execution_count": 3,
     "metadata": {},
     "output_type": "execute_result"
    }
   ],
   "source": [
    "gr17_result.to_csv(\"results/gr17.csv\", index=False)\n",
    "gr17_result"
   ]
  },
  {
   "cell_type": "code",
   "execution_count": 4,
   "id": "80a309031f9b9b98",
   "metadata": {
    "ExecuteTime": {
     "end_time": "2023-09-28T17:33:06.947213049Z",
     "start_time": "2023-09-28T17:33:06.878291584Z"
    }
   },
   "outputs": [],
   "source": [
    "# %%time\n",
    "# sns.lineplot(gr17_result, x=\"Iterations\", y=\"Distance\", hue=\"Type\")\n",
    "# plt.axhline(2085, color=\"black\")\n",
    "# plt.savefig(\"report/images/gr17_plot.png\", dpi=1200, bbox_inches=\"tight\")\n",
    "# plt.show()"
   ]
  },
  {
   "cell_type": "markdown",
   "id": "74f19151fe202958",
   "metadata": {},
   "source": [
    "# FRI26\n"
   ]
  },
  {
   "cell_type": "code",
   "execution_count": 5,
   "id": "8a46c7cfe33709b1",
   "metadata": {
    "ExecuteTime": {
     "end_time": "2023-09-28T17:33:07.378630506Z",
     "start_time": "2023-09-28T17:33:06.882229546Z"
    }
   },
   "outputs": [
    {
     "name": "stdout",
     "output_type": "stream",
     "text": [
      "CPU times: user 210 ms, sys: 98.1 ms, total: 308 ms\n",
      "Wall time: 495 ms\n"
     ]
    }
   ],
   "source": [
    "%%time\n",
    "fri26_result = run_experiment(\"data/fri26_d.txt\", to_exclude, 2500)"
   ]
  },
  {
   "cell_type": "code",
   "execution_count": 6,
   "id": "47b255a20b5f14ca",
   "metadata": {
    "ExecuteTime": {
     "end_time": "2023-09-28T17:33:07.432612214Z",
     "start_time": "2023-09-28T17:33:07.380568584Z"
    }
   },
   "outputs": [],
   "source": [
    "fri26_result.to_csv(\"results/fri26.csv\", index=False)\n",
    "# fri26_result"
   ]
  },
  {
   "cell_type": "code",
   "execution_count": 7,
   "id": "98687eebc16256ce",
   "metadata": {
    "ExecuteTime": {
     "end_time": "2023-09-28T17:33:07.438374190Z",
     "start_time": "2023-09-28T17:33:07.420306252Z"
    }
   },
   "outputs": [],
   "source": [
    "# %%time\n",
    "# sns.lineplot(fri26_result, x=\"Iterations\", y=\"Distance\", hue=\"Type\")\n",
    "# plt.axhline(937, color=\"black\")\n",
    "# plt.savefig(\"report/images/fri26_plot.png\", dpi=1200, bbox_inches=\"tight\")\n",
    "# plt.show()"
   ]
  },
  {
   "cell_type": "markdown",
   "id": "385dc3dc28a9be8e",
   "metadata": {},
   "source": [
    "# ATT48"
   ]
  },
  {
   "cell_type": "code",
   "execution_count": 8,
   "id": "7bba884b3c287afd",
   "metadata": {
    "ExecuteTime": {
     "end_time": "2023-09-28T17:33:08.390838043Z",
     "start_time": "2023-09-28T17:33:07.422975613Z"
    }
   },
   "outputs": [
    {
     "name": "stdout",
     "output_type": "stream",
     "text": [
      "CPU times: user 429 ms, sys: 94.3 ms, total: 523 ms\n",
      "Wall time: 942 ms\n"
     ]
    }
   ],
   "source": [
    "%%time\n",
    "att48_result = run_experiment(\"data/att48_d.txt\", to_exclude, 5000)"
   ]
  },
  {
   "cell_type": "code",
   "execution_count": 9,
   "id": "3dca856bf2a16797",
   "metadata": {
    "ExecuteTime": {
     "end_time": "2023-09-28T17:33:08.446332841Z",
     "start_time": "2023-09-28T17:33:08.370355704Z"
    }
   },
   "outputs": [],
   "source": [
    "att48_result.to_csv(\"results/att48.csv\", index=False)\n",
    "# att48_result"
   ]
  },
  {
   "cell_type": "code",
   "execution_count": 10,
   "id": "91205eb94e1a85d8",
   "metadata": {
    "ExecuteTime": {
     "end_time": "2023-09-28T17:33:08.455579775Z",
     "start_time": "2023-09-28T17:33:08.447561313Z"
    }
   },
   "outputs": [],
   "source": [
    "# %%time\n",
    "# sns.lineplot(att48_result, x=\"Iterations\", y=\"Distance\", hue=\"Type\")\n",
    "# plt.axhline(33523, color=\"black\")\n",
    "# plt.savefig(\"report/images/att48_plot.png\", dpi=1200, bbox_inches=\"tight\")\n",
    "# plt.show()"
   ]
  },
  {
   "cell_type": "markdown",
   "source": [
    "# Running Time"
   ],
   "metadata": {
    "collapsed": false
   },
   "id": "3ee5deff66694b97"
  },
  {
   "cell_type": "code",
   "execution_count": 11,
   "outputs": [],
   "source": [
    "# from experiment import run_timer\n",
    "# \n",
    "# run_timer(\"data/gr17_d.txt\", [], 2500)"
   ],
   "metadata": {
    "collapsed": false,
    "ExecuteTime": {
     "end_time": "2023-09-28T17:33:08.455863175Z",
     "start_time": "2023-09-28T17:33:08.450080728Z"
    }
   },
   "id": "d808ad1716931489"
  },
  {
   "cell_type": "code",
   "execution_count": 12,
   "outputs": [],
   "source": [
    "# run_timer(\"data/fri26_d.txt\", [], 2500)"
   ],
   "metadata": {
    "collapsed": false,
    "ExecuteTime": {
     "end_time": "2023-09-28T17:33:08.494075255Z",
     "start_time": "2023-09-28T17:33:08.452556208Z"
    }
   },
   "id": "3df2dc17a2feb5d0"
  },
  {
   "cell_type": "code",
   "execution_count": 13,
   "outputs": [],
   "source": [
    "# run_timer(\"data/att48_d.txt\", [], 2500)"
   ],
   "metadata": {
    "collapsed": false,
    "ExecuteTime": {
     "end_time": "2023-09-28T17:33:08.494303260Z",
     "start_time": "2023-09-28T17:33:08.493986165Z"
    }
   },
   "id": "cb2674243b134a1c"
  }
 ],
 "metadata": {
  "kernelspec": {
   "name": "python3",
   "language": "python",
   "display_name": "Python 3 (ipykernel)"
  },
  "language_info": {
   "codemirror_mode": {
    "name": "ipython",
    "version": 3
   },
   "file_extension": ".py",
   "mimetype": "text/x-python",
   "name": "python",
   "nbconvert_exporter": "python",
   "pygments_lexer": "ipython3",
   "version": "3.11.5"
  }
 },
 "nbformat": 4,
 "nbformat_minor": 5
}
