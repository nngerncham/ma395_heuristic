{
 "cells": [
  {
   "cell_type": "markdown",
   "id": "1e8c097a8ce648fe",
   "metadata": {},
   "source": [
    "# Homework 1\n",
    "\n",
    "#### Nawat Ngerncham"
   ]
  },
  {
   "cell_type": "code",
   "execution_count": 1,
   "id": "761eb84c853c9902",
   "metadata": {
    "ExecuteTime": {
     "end_time": "2023-09-28T17:29:50.250645Z",
     "start_time": "2023-09-28T17:29:50.033597Z"
    }
   },
   "outputs": [
    {
     "ename": "ModuleNotFoundError",
     "evalue": "No module named 'more_itertools'",
     "output_type": "error",
     "traceback": [
      "\u001B[0;31m---------------------------------------------------------------------------\u001B[0m",
      "\u001B[0;31mModuleNotFoundError\u001B[0m                       Traceback (most recent call last)",
      "Cell \u001B[0;32mIn[1], line 4\u001B[0m\n\u001B[1;32m      1\u001B[0m \u001B[38;5;28;01mimport\u001B[39;00m \u001B[38;5;21;01mmatplotlib\u001B[39;00m\u001B[38;5;21;01m.\u001B[39;00m\u001B[38;5;21;01mpylab\u001B[39;00m \u001B[38;5;28;01mas\u001B[39;00m \u001B[38;5;21;01mplt\u001B[39;00m\n\u001B[1;32m      2\u001B[0m \u001B[38;5;28;01mimport\u001B[39;00m \u001B[38;5;21;01mseaborn\u001B[39;00m \u001B[38;5;28;01mas\u001B[39;00m \u001B[38;5;21;01msns\u001B[39;00m\n\u001B[0;32m----> 4\u001B[0m \u001B[38;5;28;01mfrom\u001B[39;00m \u001B[38;5;21;01mexperiment\u001B[39;00m \u001B[38;5;28;01mimport\u001B[39;00m run_experiment\n\u001B[1;32m      6\u001B[0m to_exclude \u001B[38;5;241m=\u001B[39m [\u001B[38;5;124m\"\u001B[39m\u001B[38;5;124mfull_ts\u001B[39m\u001B[38;5;124m\"\u001B[39m, \u001B[38;5;124m\"\u001B[39m\u001B[38;5;124mfull_to\u001B[39m\u001B[38;5;124m\"\u001B[39m, \u001B[38;5;124m\"\u001B[39m\u001B[38;5;124mrandom_sample\u001B[39m\u001B[38;5;124m\"\u001B[39m]\n",
      "File \u001B[0;32m~/muic/ma395_heuristic/homework/hw1/experiment.py:10\u001B[0m\n\u001B[1;32m      8\u001B[0m \u001B[38;5;28;01mfrom\u001B[39;00m \u001B[38;5;21;01mtsp_algorithms\u001B[39;00m \u001B[38;5;28;01mimport\u001B[39;00m TSPResult\n\u001B[1;32m      9\u001B[0m \u001B[38;5;28;01mfrom\u001B[39;00m \u001B[38;5;21;01mtsp_algorithms\u001B[39;00m\u001B[38;5;21;01m.\u001B[39;00m\u001B[38;5;21;01mrandom_sampling\u001B[39;00m \u001B[38;5;28;01mimport\u001B[39;00m random_sampling_tsp\n\u001B[0;32m---> 10\u001B[0m \u001B[38;5;28;01mfrom\u001B[39;00m \u001B[38;5;21;01mtsp_algorithms\u001B[39;00m\u001B[38;5;21;01m.\u001B[39;00m\u001B[38;5;21;01mtwo_opt\u001B[39;00m \u001B[38;5;28;01mimport\u001B[39;00m two_opt_tsp, rdn_two_opt_tsp\n\u001B[1;32m     11\u001B[0m \u001B[38;5;28;01mfrom\u001B[39;00m \u001B[38;5;21;01mtsp_algorithms\u001B[39;00m\u001B[38;5;21;01m.\u001B[39;00m\u001B[38;5;21;01mtwo_swap\u001B[39;00m \u001B[38;5;28;01mimport\u001B[39;00m two_swap_tsp, rdn_two_swap_tsp\n\u001B[1;32m     13\u001B[0m REPS \u001B[38;5;241m=\u001B[39m \u001B[38;5;241m10\u001B[39m\n",
      "File \u001B[0;32m~/muic/ma395_heuristic/homework/hw1/tsp_algorithms/two_opt.py:4\u001B[0m\n\u001B[1;32m      1\u001B[0m \u001B[38;5;28;01mfrom\u001B[39;00m \u001B[38;5;21;01mtyping\u001B[39;00m \u001B[38;5;28;01mimport\u001B[39;00m Tuple, List, Callable\n\u001B[1;32m      3\u001B[0m \u001B[38;5;28;01mimport\u001B[39;00m \u001B[38;5;21;01mnumpy\u001B[39;00m\u001B[38;5;21;01m.\u001B[39;00m\u001B[38;5;21;01mrandom\u001B[39;00m \u001B[38;5;28;01mas\u001B[39;00m \u001B[38;5;21;01mrd\u001B[39;00m\n\u001B[0;32m----> 4\u001B[0m \u001B[38;5;28;01mfrom\u001B[39;00m \u001B[38;5;21;01mmore_itertools\u001B[39;00m \u001B[38;5;28;01mimport\u001B[39;00m distinct_combinations\n\u001B[1;32m      6\u001B[0m \u001B[38;5;28;01mfrom\u001B[39;00m \u001B[38;5;21;01mtsp_algorithms\u001B[39;00m \u001B[38;5;28;01mimport\u001B[39;00m TSPResult, logger\n\u001B[1;32m      8\u001B[0m TWO_OPT_DEFAULT_N_ITERS \u001B[38;5;241m=\u001B[39m \u001B[38;5;241m100_000\u001B[39m\n",
      "\u001B[0;31mModuleNotFoundError\u001B[0m: No module named 'more_itertools'"
     ]
    }
   ],
   "source": [
    "import matplotlib.pylab as plt\n",
    "import seaborn as sns\n",
    "\n",
    "from experiment import run_experiment\n",
    "\n",
    "to_exclude = [\"full_ts\", \"full_to\", \"random_sample\"]"
   ]
  },
  {
   "cell_type": "markdown",
   "id": "35272e6d7bf0cb8b",
   "metadata": {},
   "source": [
    "## GR17"
   ]
  },
  {
   "cell_type": "code",
   "execution_count": null,
   "id": "c47b9f51f300dc6f",
   "metadata": {
    "ExecuteTime": {
     "end_time": "2023-09-28T17:29:50.272991Z",
     "start_time": "2023-09-28T17:29:50.252486Z"
    }
   },
   "outputs": [],
   "source": [
    "%%time\n",
    "gr17_result = run_experiment(\"data/gr17_d.txt\", to_exclude, 1500)"
   ]
  },
  {
   "cell_type": "code",
   "execution_count": null,
   "id": "9dce7d9208ed99bb",
   "metadata": {
    "ExecuteTime": {
     "start_time": "2023-09-28T17:29:50.254016Z"
    }
   },
   "outputs": [],
   "source": [
    "gr17_result.to_csv(\"results/gr17.csv\", index=False)\n",
    "gr17_result"
   ]
  },
  {
   "cell_type": "code",
   "execution_count": null,
   "id": "80a309031f9b9b98",
   "metadata": {
    "ExecuteTime": {
     "start_time": "2023-09-28T17:29:50.254954Z"
    }
   },
   "outputs": [],
   "source": [
    "# %%time\n",
    "# sns.lineplot(gr17_result, x=\"Iterations\", y=\"Distance\", hue=\"Type\")\n",
    "# plt.axhline(2085, color=\"black\")\n",
    "# plt.savefig(\"report/images/gr17_plot.png\", dpi=1200, bbox_inches=\"tight\")\n",
    "# plt.show()"
   ]
  },
  {
   "cell_type": "markdown",
   "id": "74f19151fe202958",
   "metadata": {},
   "source": [
    "# FRI26\n"
   ]
  },
  {
   "cell_type": "code",
   "execution_count": null,
   "id": "8a46c7cfe33709b1",
   "metadata": {
    "ExecuteTime": {
     "start_time": "2023-09-28T17:29:50.256300Z"
    }
   },
   "outputs": [],
   "source": [
    "%%time\n",
    "fri26_result = run_experiment(\"data/fri26_d.txt\", to_exclude, 2500)"
   ]
  },
  {
   "cell_type": "code",
   "execution_count": null,
   "id": "47b255a20b5f14ca",
   "metadata": {
    "ExecuteTime": {
     "start_time": "2023-09-28T17:29:50.257678Z"
    }
   },
   "outputs": [],
   "source": [
    "fri26_result.to_csv(\"results/fri26.csv\", index=False)\n",
    "# fri26_result"
   ]
  },
  {
   "cell_type": "code",
   "execution_count": null,
   "id": "98687eebc16256ce",
   "metadata": {
    "ExecuteTime": {
     "start_time": "2023-09-28T17:29:50.258808Z"
    }
   },
   "outputs": [],
   "source": [
    "# %%time\n",
    "# sns.lineplot(fri26_result, x=\"Iterations\", y=\"Distance\", hue=\"Type\")\n",
    "# plt.axhline(937, color=\"black\")\n",
    "# plt.savefig(\"report/images/fri26_plot.png\", dpi=1200, bbox_inches=\"tight\")\n",
    "# plt.show()"
   ]
  },
  {
   "cell_type": "markdown",
   "id": "385dc3dc28a9be8e",
   "metadata": {},
   "source": [
    "# ATT48"
   ]
  },
  {
   "cell_type": "code",
   "execution_count": null,
   "id": "7bba884b3c287afd",
   "metadata": {
    "ExecuteTime": {
     "start_time": "2023-09-28T17:29:50.259944Z"
    }
   },
   "outputs": [],
   "source": [
    "%%time\n",
    "att48_result = run_experiment(\"data/att48_d.txt\", to_exclude, 5000)"
   ]
  },
  {
   "cell_type": "code",
   "execution_count": null,
   "id": "3dca856bf2a16797",
   "metadata": {
    "ExecuteTime": {
     "start_time": "2023-09-28T17:29:50.260587Z"
    }
   },
   "outputs": [],
   "source": [
    "att48_result.to_csv(\"results/att48.csv\", index=False)\n",
    "# att48_result"
   ]
  },
  {
   "cell_type": "code",
   "execution_count": null,
   "id": "91205eb94e1a85d8",
   "metadata": {
    "ExecuteTime": {
     "start_time": "2023-09-28T17:29:50.261263Z"
    }
   },
   "outputs": [],
   "source": [
    "# %%time\n",
    "# sns.lineplot(att48_result, x=\"Iterations\", y=\"Distance\", hue=\"Type\")\n",
    "# plt.axhline(33523, color=\"black\")\n",
    "# plt.savefig(\"report/images/att48_plot.png\", dpi=1200, bbox_inches=\"tight\")\n",
    "# plt.show()"
   ]
  },
  {
   "cell_type": "markdown",
   "source": [
    "# Running Time"
   ],
   "metadata": {
    "collapsed": false
   },
   "id": "3ee5deff66694b97"
  },
  {
   "cell_type": "code",
   "execution_count": null,
   "outputs": [],
   "source": [
    "# from experiment import run_timer\n",
    "# \n",
    "# run_timer(\"data/gr17_d.txt\", [], 2500)"
   ],
   "metadata": {
    "collapsed": false,
    "ExecuteTime": {
     "start_time": "2023-09-28T17:29:50.261911Z"
    }
   },
   "id": "d808ad1716931489"
  },
  {
   "cell_type": "code",
   "execution_count": null,
   "outputs": [],
   "source": [
    "# run_timer(\"data/fri26_d.txt\", [], 2500)"
   ],
   "metadata": {
    "collapsed": false,
    "ExecuteTime": {
     "start_time": "2023-09-28T17:29:50.262526Z"
    }
   },
   "id": "3df2dc17a2feb5d0"
  },
  {
   "cell_type": "code",
   "execution_count": null,
   "outputs": [],
   "source": [
    "# run_timer(\"data/att48_d.txt\", [], 2500)"
   ],
   "metadata": {
    "collapsed": false,
    "ExecuteTime": {
     "start_time": "2023-09-28T17:29:50.263135Z"
    }
   },
   "id": "cb2674243b134a1c"
  }
 ],
 "metadata": {
  "kernelspec": {
   "name": "python3",
   "language": "python",
   "display_name": "Python 3 (ipykernel)"
  },
  "language_info": {
   "codemirror_mode": {
    "name": "ipython",
    "version": 3
   },
   "file_extension": ".py",
   "mimetype": "text/x-python",
   "name": "python",
   "nbconvert_exporter": "python",
   "pygments_lexer": "ipython3",
   "version": "3.11.5"
  }
 },
 "nbformat": 4,
 "nbformat_minor": 5
}
