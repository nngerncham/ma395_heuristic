{
 "cells": [
  {
   "cell_type": "markdown",
   "source": [
    "# Homework 1\n",
    "\n",
    "#### Nawat Ngerncham"
   ],
   "metadata": {
    "collapsed": false
   },
   "id": "1e8c097a8ce648fe"
  },
  {
   "cell_type": "code",
   "execution_count": 1,
   "outputs": [],
   "source": [
    "import numpy as np\n",
    "import numpy.random as rd\n",
    "import pandas as pd\n",
    "\n",
    "from numpy.random import default_rng\n",
    "from dataclasses import dataclass\n",
    "from typing import List, Callable, Tuple, TypeVar\n",
    "\n",
    "\n",
    "@dataclass\n",
    "class TSPResult:\n",
    "    final_route: List[int]\n",
    "    final_distance: float\n",
    "    progress: pd.DataFrame\n",
    "\n",
    "\n",
    "DEFAULT_N_ITERATIONS = 5_000_000"
   ],
   "metadata": {
    "collapsed": false,
    "ExecuteTime": {
     "end_time": "2023-09-14T14:03:11.535649Z",
     "start_time": "2023-09-14T14:03:11.275158Z"
    }
   },
   "id": "initial_id"
  },
  {
   "cell_type": "code",
   "execution_count": 2,
   "outputs": [],
   "source": [
    "T = TypeVar(\"T\")\n",
    "\n",
    "\n",
    "def shuffle(lst: List[T]) -> List[T]:\n",
    "    rng = default_rng()\n",
    "    lst_cp = lst.copy()\n",
    "    rng.shuffle(lst_cp)\n",
    "    return lst_cp"
   ],
   "metadata": {
    "collapsed": false,
    "ExecuteTime": {
     "end_time": "2023-09-14T14:03:11.567726Z",
     "start_time": "2023-09-14T14:03:11.561375Z"
    }
   },
   "id": "b99359a962d3d2d2"
  },
  {
   "cell_type": "markdown",
   "source": [
    "## 2-OPT"
   ],
   "metadata": {
    "collapsed": false
   },
   "id": "8d9c03b63c97bbd0"
  },
  {
   "cell_type": "code",
   "execution_count": 3,
   "outputs": [],
   "source": [
    "def random_adj_idx(l: int) -> Tuple[int, int]:\n",
    "    assert l >= 4\n",
    "    pair1 = rd.randint(l)\n",
    "    pair2 = rd.randint(l)\n",
    "\n",
    "    while pair1 - 1 < pair2 < pair1 + 1:\n",
    "        pair2 = rd.randint(l)\n",
    "\n",
    "    return pair1, pair2\n",
    "\n",
    "\n",
    "def two_opt_tsp(cities: List[int],\n",
    "                path_distance: Callable[[List[int]], float],\n",
    "                n_iters: int = DEFAULT_N_ITERATIONS) -> TSPResult:\n",
    "    current_path = cities.copy()\n",
    "    current_dist = path_distance(current_path)\n",
    "    progress = [current_dist]\n",
    "\n",
    "    for _ in range(n_iters):\n",
    "        new_path = current_path.copy()\n",
    "\n",
    "        pi1, pi2 = random_adj_idx(len(cities))\n",
    "        new_path[pi1], new_path[pi2] = current_path[pi2], current_path[pi1]\n",
    "        new_distance = path_distance(new_path)\n",
    "\n",
    "        if new_distance < current_dist:\n",
    "            current_path = new_path\n",
    "            current_dist = new_distance\n",
    "\n",
    "        progress.append(current_dist)\n",
    "\n",
    "    return TSPResult(\n",
    "        final_route=current_path,\n",
    "        final_distance=current_dist,\n",
    "        progress=pd.DataFrame({\"distance\": progress})\n",
    "    )"
   ],
   "metadata": {
    "collapsed": false,
    "ExecuteTime": {
     "end_time": "2023-09-14T14:03:11.575135Z",
     "start_time": "2023-09-14T14:03:11.570578Z"
    }
   },
   "id": "41c58a60eb2b8379"
  },
  {
   "cell_type": "markdown",
   "source": [
    "## Random Sampling"
   ],
   "metadata": {
    "collapsed": false
   },
   "id": "81c606d87d3c9837"
  },
  {
   "cell_type": "code",
   "execution_count": 4,
   "outputs": [],
   "source": [
    "def random_sampling_tsp(cities: List[int],\n",
    "                        path_distance: Callable[[List[int]], float],\n",
    "                        n_iters: int = DEFAULT_N_ITERATIONS) -> TSPResult:\n",
    "    current_path = cities.copy()\n",
    "    current_distance = path_distance(current_path)\n",
    "    dist_progress = [current_distance]\n",
    "\n",
    "    for _ in range(n_iters):\n",
    "        new_path = shuffle(cities.copy())\n",
    "        new_distance = path_distance(new_path)\n",
    "\n",
    "        if new_distance < current_distance:\n",
    "            current_distance = new_distance\n",
    "            current_path = new_path\n",
    "\n",
    "        dist_progress.append(current_distance)\n",
    "\n",
    "    return TSPResult(\n",
    "        final_route=current_path,\n",
    "        final_distance=current_distance,\n",
    "        progress=pd.DataFrame({\"distance\": dist_progress})\n",
    "    )"
   ],
   "metadata": {
    "collapsed": false,
    "ExecuteTime": {
     "end_time": "2023-09-14T14:03:11.582075Z",
     "start_time": "2023-09-14T14:03:11.575919Z"
    }
   },
   "id": "23c8aec39e3d75b9"
  },
  {
   "cell_type": "markdown",
   "source": [
    "## In-class 2-OPT Example"
   ],
   "metadata": {
    "collapsed": false
   },
   "id": "2589a9cbf1aa8455"
  },
  {
   "cell_type": "code",
   "execution_count": 5,
   "outputs": [],
   "source": [
    "def in_class_2opt_distance(x: int, y: int):\n",
    "    dist_matrix = [\n",
    "        [0, 7, 7, 3, 8],\n",
    "        [7, 0, 7, 5, 3],\n",
    "        [7, 7, 0, 8, 5],\n",
    "        [3, 5, 8, 0, 5],\n",
    "        [8, 3, 5, 5, 0]\n",
    "    ]\n",
    "\n",
    "    return dist_matrix[x][y]\n",
    "\n",
    "\n",
    "def in_class_path_distance(path: List[int]):\n",
    "    path_to_use = path + [path[0]]\n",
    "    return np.sum([in_class_2opt_distance(x, y) for x, y in zip(path_to_use[:-1], path_to_use[1:])])"
   ],
   "metadata": {
    "collapsed": false,
    "ExecuteTime": {
     "end_time": "2023-09-14T14:03:11.591592Z",
     "start_time": "2023-09-14T14:03:11.587077Z"
    }
   },
   "id": "44a9a808f07f426e"
  },
  {
   "cell_type": "code",
   "execution_count": 6,
   "outputs": [],
   "source": [
    "# random_sampling_tsp([i for i in range(5)], in_class_path_distance, n_iters=250)"
   ],
   "metadata": {
    "collapsed": false,
    "ExecuteTime": {
     "end_time": "2023-09-14T14:03:11.598485Z",
     "start_time": "2023-09-14T14:03:11.592211Z"
    }
   },
   "id": "81833e786f6b31cb"
  },
  {
   "cell_type": "code",
   "execution_count": 7,
   "outputs": [],
   "source": [
    "# two_opt_tsp([i for i in range(5)], in_class_path_distance, n_iters=250)"
   ],
   "metadata": {
    "collapsed": false,
    "ExecuteTime": {
     "end_time": "2023-09-14T14:03:11.598706Z",
     "start_time": "2023-09-14T14:03:11.595931Z"
    }
   },
   "id": "ed389263fd1cb345"
  },
  {
   "cell_type": "code",
   "execution_count": 8,
   "outputs": [
    {
     "data": {
      "text/plain": "array([[   0,  966, 1513, ..., 1564, 2871,  348],\n       [ 966,    0, 2410, ...,  198, 1917, 2541],\n       [1513, 2410,    0, ..., 2217, 2673, 1570],\n       ...,\n       [1564,  198, 2217, ...,    0,  321,  936],\n       [2871, 1917, 2673, ...,  321,    0,   34],\n       [ 348, 2541, 1570, ...,  936,   34,    0]])"
     },
     "execution_count": 8,
     "metadata": {},
     "output_type": "execute_result"
    }
   ],
   "source": [
    "sgb128 = np.loadtxt(\"data/sgb128_dist.txt\", dtype=np.int64)\n",
    "sgb128"
   ],
   "metadata": {
    "collapsed": false,
    "ExecuteTime": {
     "end_time": "2023-09-14T14:03:11.606123Z",
     "start_time": "2023-09-14T14:03:11.598859Z"
    }
   },
   "id": "4437f848e9acaf17"
  },
  {
   "cell_type": "code",
   "execution_count": 9,
   "outputs": [],
   "source": [
    "def sgb_path_dist(path: List[int]) -> float:\n",
    "    return np.sum([sgb128[x, y] for x, y in zip(path[:-1], path[1:])])\n",
    "\n",
    "\n",
    "cities = [i for i in range(128)]"
   ],
   "metadata": {
    "collapsed": false,
    "ExecuteTime": {
     "end_time": "2023-09-14T14:03:11.609852Z",
     "start_time": "2023-09-14T14:03:11.604612Z"
    }
   },
   "id": "90d9dad23b9484a2"
  },
  {
   "cell_type": "code",
   "execution_count": 10,
   "outputs": [
    {
     "data": {
      "text/plain": "TSPResult(final_route=[40, 43, 23, 77, 72, 49, 127, 15, 80, 70, 103, 87, 47, 62, 45, 90, 3, 71, 38, 108, 110, 42, 35, 44, 29, 118, 114, 13, 122, 28, 124, 24, 88, 9, 67, 81, 120, 11, 99, 101, 32, 64, 19, 54, 20, 56, 85, 107, 92, 116, 31, 33, 83, 94, 111, 1, 22, 26, 30, 57, 113, 14, 17, 97, 109, 25, 18, 125, 112, 65, 2, 58, 102, 41, 86, 37, 63, 79, 27, 84, 8, 4, 6, 95, 117, 16, 93, 0, 46, 121, 78, 100, 52, 105, 98, 126, 69, 12, 60, 75, 68, 73, 34, 123, 50, 36, 53, 96, 55, 89, 74, 66, 119, 61, 106, 48, 21, 91, 39, 51, 82, 5, 115, 76, 10, 59, 104, 7], final_distance=127904, progress=         distance\n0          137322\n1          137322\n2          137322\n3          137322\n4          137322\n...           ...\n4999996    127904\n4999997    127904\n4999998    127904\n4999999    127904\n5000000    127904\n\n[5000001 rows x 1 columns])"
     },
     "execution_count": 10,
     "metadata": {},
     "output_type": "execute_result"
    }
   ],
   "source": [
    "rd_result = random_sampling_tsp(cities, sgb_path_dist)"
   ],
   "metadata": {
    "collapsed": false,
    "ExecuteTime": {
     "end_time": "2023-09-14T14:06:22.839379Z",
     "start_time": "2023-09-14T14:03:11.608194Z"
    }
   },
   "id": "6ee8b820323fd03a"
  },
  {
   "cell_type": "code",
   "execution_count": 11,
   "outputs": [
    {
     "data": {
      "text/plain": "TSPResult(final_route=[32, 75, 2, 90, 4, 51, 54, 108, 88, 44, 42, 3, 10, 11, 27, 84, 53, 17, 69, 19, 110, 21, 72, 23, 79, 67, 15, 14, 29, 55, 63, 1, 31, 58, 34, 125, 106, 24, 116, 57, 0, 71, 36, 104, 33, 103, 35, 47, 16, 124, 113, 30, 9, 117, 12, 49, 97, 87, 68, 70, 122, 38, 77, 121, 6, 85, 66, 20, 56, 43, 73, 22, 101, 83, 76, 40, 59, 118, 112, 25, 81, 95, 62, 127, 65, 50, 8, 98, 7, 93, 74, 114, 39, 60, 61, 13, 105, 100, 28, 126, 89, 123, 37, 45, 18, 26, 64, 48, 92, 120, 52, 111, 99, 94, 115, 5, 119, 107, 102, 80, 78, 91, 41, 86, 46, 82, 109, 96], final_distance=40318, progress=         distance\n0          137322\n1          136851\n2          136851\n3          136851\n4          136851\n...           ...\n4999996     40318\n4999997     40318\n4999998     40318\n4999999     40318\n5000000     40318\n\n[5000001 rows x 1 columns])"
     },
     "execution_count": 11,
     "metadata": {},
     "output_type": "execute_result"
    }
   ],
   "source": [
    "opt2_result = two_opt_tsp(cities, sgb_path_dist)"
   ],
   "metadata": {
    "collapsed": false,
    "ExecuteTime": {
     "end_time": "2023-09-14T14:08:31.990388Z",
     "start_time": "2023-09-14T14:06:22.889112Z"
    }
   },
   "id": "88d9d6943bbb5784"
  }
 ],
 "metadata": {
  "kernelspec": {
   "display_name": "Python 3",
   "language": "python",
   "name": "python3"
  },
  "language_info": {
   "codemirror_mode": {
    "name": "ipython",
    "version": 2
   },
   "file_extension": ".py",
   "mimetype": "text/x-python",
   "name": "python",
   "nbconvert_exporter": "python",
   "pygments_lexer": "ipython2",
   "version": "2.7.6"
  }
 },
 "nbformat": 4,
 "nbformat_minor": 5
}
