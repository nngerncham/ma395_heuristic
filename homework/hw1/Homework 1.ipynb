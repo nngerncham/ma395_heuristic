{
 "cells": [
  {
   "cell_type": "markdown",
   "id": "1e8c097a8ce648fe",
   "metadata": {},
   "source": [
    "# Homework 1\n",
    "\n",
    "#### Nawat Ngerncham"
   ]
  },
  {
   "cell_type": "code",
   "execution_count": null,
   "id": "761eb84c853c9902",
   "metadata": {},
   "outputs": [],
   "source": [
    "import matplotlib.pylab as plt\n",
    "import seaborn as sns\n",
    "\n",
    "from experiment import run_experiment"
   ]
  },
  {
   "cell_type": "markdown",
   "id": "35272e6d7bf0cb8b",
   "metadata": {},
   "source": [
    "## GR17"
   ]
  },
  {
   "cell_type": "code",
   "execution_count": null,
   "id": "c47b9f51f300dc6f",
   "metadata": {},
   "outputs": [],
   "source": [
    "%%time\n",
    "gr17_result = run_experiment(\"data/gr17_d.txt\", [], 1500)"
   ]
  },
  {
   "cell_type": "code",
   "execution_count": null,
   "id": "9dce7d9208ed99bb",
   "metadata": {},
   "outputs": [],
   "source": [
    "gr17_result.to_csv(\"results/gr17.txt\")\n",
    "gr17_result"
   ]
  },
  {
   "cell_type": "code",
   "execution_count": null,
   "id": "80a309031f9b9b98",
   "metadata": {},
   "outputs": [],
   "source": [
    "%%time\n",
    "sns.lineplot(gr17_result, x=\"Iterations\", y=\"Distance\", hue=\"Type\")\n",
    "plt.axhline(2085, color=\"black\")\n",
    "plt.savefig(\"report/images/gr17_plot.png\", dpi=1200, bbox_inches=\"tight\")\n",
    "plt.show()"
   ]
  },
  {
   "cell_type": "markdown",
   "id": "74f19151fe202958",
   "metadata": {},
   "source": [
    "# FRI26\n"
   ]
  },
  {
   "cell_type": "code",
   "execution_count": null,
   "id": "8a46c7cfe33709b1",
   "metadata": {},
   "outputs": [],
   "source": [
    "%%time\n",
    "fri26_result = run_experiment(\"data/fri26_d.txt\", [], 2500)"
   ]
  },
  {
   "cell_type": "code",
   "execution_count": null,
   "id": "47b255a20b5f14ca",
   "metadata": {},
   "outputs": [],
   "source": [
    "fri26_result.to_csv(\"results/fri26.txt\")\n",
    "# fri26_result"
   ]
  },
  {
   "cell_type": "code",
   "execution_count": null,
   "id": "98687eebc16256ce",
   "metadata": {},
   "outputs": [],
   "source": [
    "%%time\n",
    "sns.lineplot(fri26_result, x=\"Iterations\", y=\"Distance\", hue=\"Type\")\n",
    "plt.axhline(937, color=\"black\")\n",
    "plt.savefig(\"report/images/fri26_plot.png\", dpi=1200, bbox_inches=\"tight\")\n",
    "plt.show()"
   ]
  },
  {
   "cell_type": "markdown",
   "id": "385dc3dc28a9be8e",
   "metadata": {},
   "source": [
    "# ATT48"
   ]
  },
  {
   "cell_type": "code",
   "execution_count": null,
   "id": "7bba884b3c287afd",
   "metadata": {},
   "outputs": [],
   "source": [
    "%%time\n",
    "att48_result = run_experiment(\"data/att48_d.txt\", [], 10_000)"
   ]
  },
  {
   "cell_type": "code",
   "execution_count": null,
   "id": "3dca856bf2a16797",
   "metadata": {},
   "outputs": [],
   "source": [
    "att48_result.to_csv(\"results/att48.txt\")\n",
    "# att48_result"
   ]
  },
  {
   "cell_type": "code",
   "execution_count": null,
   "id": "91205eb94e1a85d8",
   "metadata": {},
   "outputs": [],
   "source": [
    "%%time\n",
    "sns.lineplot(att48_result, x=\"Iterations\", y=\"Distance\", hue=\"Type\")\n",
    "plt.axhline(33523, color=\"black\")\n",
    "plt.savefig(\"report/images/att48_plot.png\", dpi=1200, bbox_inches=\"tight\")\n",
    "plt.show()"
   ]
  },
  {
   "cell_type": "markdown",
   "source": [
    "# Running Time"
   ],
   "metadata": {
    "collapsed": false
   },
   "id": "3ee5deff66694b97"
  },
  {
   "cell_type": "code",
   "execution_count": null,
   "outputs": [],
   "source": [
    "from experiment import run_timer\n",
    "\n",
    "run_timer(\"data/gr17_d.txt\", [], 2500)"
   ],
   "metadata": {
    "collapsed": false
   },
   "id": "d808ad1716931489"
  },
  {
   "cell_type": "code",
   "execution_count": null,
   "outputs": [],
   "source": [
    "run_timer(\"data/fri26_d.txt\", [], 2500)"
   ],
   "metadata": {
    "collapsed": false
   },
   "id": "3df2dc17a2feb5d0"
  },
  {
   "cell_type": "code",
   "execution_count": null,
   "outputs": [],
   "source": [
    "run_timer(\"data/att48_d.txt\", [], 2500)"
   ],
   "metadata": {
    "collapsed": false
   },
   "id": "cb2674243b134a1c"
  }
 ],
 "metadata": {
  "kernelspec": {
   "name": "python3",
   "language": "python",
   "display_name": "Python 3 (ipykernel)"
  },
  "language_info": {
   "codemirror_mode": {
    "name": "ipython",
    "version": 3
   },
   "file_extension": ".py",
   "mimetype": "text/x-python",
   "name": "python",
   "nbconvert_exporter": "python",
   "pygments_lexer": "ipython3",
   "version": "3.11.5"
  }
 },
 "nbformat": 4,
 "nbformat_minor": 5
}
