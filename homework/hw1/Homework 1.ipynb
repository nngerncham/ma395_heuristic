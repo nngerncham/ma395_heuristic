{
 "cells": [
  {
   "cell_type": "markdown",
   "source": [
    "# Homework 1\n",
    "\n",
    "#### Nawat Ngerncham"
   ],
   "metadata": {
    "collapsed": false
   },
   "id": "1e8c097a8ce648fe"
  },
  {
   "cell_type": "code",
   "execution_count": 6,
   "outputs": [],
   "source": [
    "import numpy as np\n",
    "\n",
    "# these are the ones I wrote myself\n",
    "from tsp_algorithms.two_swap import two_swap_tsp\n",
    "from tsp_algorithms.two_opt import two_opt_tsp\n",
    "from tsp_algorithms.random_sampling import random_sampling_tsp"
   ],
   "metadata": {
    "collapsed": false,
    "ExecuteTime": {
     "end_time": "2023-09-14T17:01:38.899959347Z",
     "start_time": "2023-09-14T17:01:38.859615076Z"
    }
   },
   "id": "7687ee82c6c14e84"
  }
 ],
 "metadata": {
  "kernelspec": {
   "display_name": "Python 3",
   "language": "python",
   "name": "python3"
  },
  "language_info": {
   "codemirror_mode": {
    "name": "ipython",
    "version": 2
   },
   "file_extension": ".py",
   "mimetype": "text/x-python",
   "name": "python",
   "nbconvert_exporter": "python",
   "pygments_lexer": "ipython2",
   "version": "2.7.6"
  }
 },
 "nbformat": 4,
 "nbformat_minor": 5
}
