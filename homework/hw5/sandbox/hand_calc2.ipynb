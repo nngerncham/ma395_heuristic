{
 "cells": [
  {
   "cell_type": "code",
   "execution_count": 31,
   "metadata": {},
   "outputs": [],
   "source": [
    "import numpy as np\n",
    "import matplotlib.pyplot as plt\n",
    "\n",
    "\n",
    "def f2(x):\n",
    "    return x**2, (x - 2) ** 2\n",
    "\n",
    "\n",
    "points_label = [\"A\", \"B\", \"C\", \"D\", \"E\", \"F\", \"G\", \"H\", \"I\", \"J\"]\n",
    "points = [\n",
    "    0.4678,\n",
    "    1.7355,\n",
    "    0.8183,\n",
    "    -0.414,\n",
    "    3.2105,\n",
    "    -1.272,\n",
    "    -1.508,\n",
    "    -1.832,\n",
    "    -2.161,\n",
    "    -4.105,\n",
    "]\n",
    "\n",
    "for label, point in zip(points_label, points):\n",
    "    x, y = f2(point)\n",
    "    # print(f\"{label} &= ({x:.2f}, {y:.2f}) \\\\\\\\\")\n",
    "\n",
    "domination_matrix = np.zeros((len(points), len(points)))\n",
    "for i, point in enumerate(points):\n",
    "    for j, other_point in enumerate(points):\n",
    "        if i == j:\n",
    "            continue\n",
    "        x1, y1 = f2(point)\n",
    "        x2, y2 = f2(other_point)\n",
    "        if x1 <= x2 and y1 <= y2:\n",
    "            domination_matrix[i, j] = 1\n",
    "        elif x1 > x2 and y1 > y2:\n",
    "            domination_matrix[i, j] = -1"
   ]
  },
  {
   "cell_type": "code",
   "execution_count": 32,
   "metadata": {},
   "outputs": [
    {
     "data": {
      "image/png": "[encoded data removed]",
      "text/plain": [
       "<Figure size 640x480 with 1 Axes>"
      ]
     },
     "metadata": {},
     "output_type": "display_data"
    }
   ],
   "source": [
    "frontiers = [[0, 1, 2, 3], [4, 5], [6, 7], [8, 9]]\n",
    "xy_pairs = [np.transpose(sorted([f2(points[i]) for i in frontier], key=lambda x: x[0]))\n",
    "            for frontier in frontiers]\n",
    "\n",
    "for i, pair in enumerate(xy_pairs):\n",
    "    to_use = sorted(pair, key=lambda x: x[0])\n",
    "    plt.plot(to_use[0], to_use[1], label=f\"$F_{i+1}$\")\n",
    "plt.legend()\n",
    "plt.xlabel(\"$f_1$\")\n",
    "plt.ylabel(\"$f_2$\")\n",
    "plt.show()"
   ]
  },
  {
   "cell_type": "code",
   "execution_count": 33,
   "metadata": {},
   "outputs": [
    {
     "data": {
      "text/plain": [
       "[('D', -0.414),\n",
       " ('A', 0.4678),\n",
       " ('C', 0.8183),\n",
       " ('F', -1.272),\n",
       " ('G', -1.508),\n",
       " ('B', 1.7355),\n",
       " ('H', -1.832),\n",
       " ('I', -2.161),\n",
       " ('E', 3.2105),\n",
       " ('J', -4.105)]"
      ]
     },
     "execution_count": 33,
     "metadata": {},
     "output_type": "execute_result"
    }
   ],
   "source": [
    "sorted(zip(points_label, points), key=lambda x: f2(x[1])[0])"
   ]
  },
  {
   "cell_type": "code",
   "execution_count": 34,
   "metadata": {},
   "outputs": [
    {
     "data": {
      "text/plain": [
       "[('B', 1.7355),\n",
       " ('C', 0.8183),\n",
       " ('E', 3.2105),\n",
       " ('A', 0.4678),\n",
       " ('D', -0.414),\n",
       " ('F', -1.272),\n",
       " ('G', -1.508),\n",
       " ('H', -1.832),\n",
       " ('I', -2.161),\n",
       " ('J', -4.105)]"
      ]
     },
     "execution_count": 34,
     "metadata": {},
     "output_type": "execute_result"
    }
   ],
   "source": [
    "sorted(zip(points_label, points), key=lambda x: f2(x[1])[1])"
   ]
  },
  {
   "cell_type": "code",
   "execution_count": 35,
   "metadata": {},
   "outputs": [
    {
     "data": {
      "text/plain": [
       "1.4115518627713748"
      ]
     },
     "execution_count": 35,
     "metadata": {},
     "output_type": "execute_result"
    }
   ],
   "source": [
    "(9.2 - 1.5) / (9.2 - 1.0) + (4.5 - 0.2) / (9.3 - 0.2)"
   ]
  },
  {
   "cell_type": "code",
   "execution_count": 36,
   "metadata": {},
   "outputs": [
    {
     "data": {
      "text/plain": [
       "0.1490620406900286"
      ]
     },
     "execution_count": 36,
     "metadata": {},
     "output_type": "execute_result"
    }
   ],
   "source": [
    "# cd(A)\n",
    "(0.67 - 0.17)/(16.85 - 0.17) + (5.83 - 1.4)/(37.27 - 0.07)"
   ]
  },
  {
   "cell_type": "code",
   "execution_count": 37,
   "metadata": {},
   "outputs": [
    {
     "data": {
      "text/plain": [
       "0.22855650963100488"
      ]
     },
     "execution_count": 37,
     "metadata": {},
     "output_type": "execute_result"
    }
   ],
   "source": [
    "# cd(C)\n",
    "(3.01 - 0.22)/(16.85 - 0.17) + (2.35 - 0.07)/(37.27 - 0.07)"
   ]
  }
 ],
 "metadata": {
  "kernelspec": {
   "display_name": "Python 3",
   "language": "python",
   "name": "python3"
  },
  "language_info": {
   "codemirror_mode": {
    "name": "ipython",
    "version": 3
   },
   "file_extension": ".py",
   "mimetype": "text/x-python",
   "name": "python",
   "nbconvert_exporter": "python",
   "pygments_lexer": "ipython3",
   "version": "3.10.9"
  }
 },
 "nbformat": 4,
 "nbformat_minor": 2
}
