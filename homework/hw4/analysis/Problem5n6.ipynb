{
 "cells": [
  {
   "cell_type": "code",
   "execution_count": 21,
   "id": "initial_id",
   "metadata": {
    "collapsed": true,
    "ExecuteTime": {
     "end_time": "2023-11-01T18:52:18.629323Z",
     "start_time": "2023-11-01T18:52:18.624083Z"
    }
   },
   "outputs": [],
   "source": [
    "import seaborn as sns\n",
    "import matplotlib.pylab as plt\n",
    "import pandas as pd\n",
    "\n",
    "\n",
    "def read_results(path):\n",
    "    data = pd.read_csv(path).set_index(\"Generation\")\n",
    "    return data"
   ]
  },
  {
   "cell_type": "code",
   "execution_count": null,
   "outputs": [],
   "source": [
    "fig, axes = plt.subplots(1, 2, figsize=(10, 4), sharex=True, sharey=True)\n",
    "name = [\"Roulette\", \"Tournament\"]\n",
    "for i in range(2):\n",
    "    axes[i].set_title(f\"PMX with {name[i]}\")\n",
    "sns.lineplot(read_results(\"../results/p56/roulettepmx.csv\"), errorbar=\"sd\", ax=axes[0])\n",
    "sns.lineplot(read_results(\"../results/p56/tournamentpmx.csv\"), errorbar=\"sd\", ax=axes[1])\n",
    "fig.savefig(\"../images/p56/p56pmx.png\")"
   ],
   "metadata": {
    "collapsed": false,
    "is_executing": true,
    "ExecuteTime": {
     "start_time": "2023-11-01T18:52:18.630304Z"
    }
   },
   "id": "9dc4dba5ee24d7e7"
  },
  {
   "cell_type": "code",
   "execution_count": null,
   "outputs": [],
   "source": [
    "fig, axes = plt.subplots(1, 2, figsize=(10, 4), sharex=True, sharey=True)\n",
    "name = [\"Roulette\", \"Tournament\"]\n",
    "for i in range(2):\n",
    "    axes[i].set_title(f\"Order with {name[i]}\")\n",
    "sns.lineplot(read_results(\"../results/p56/rouletteorder.csv\"), errorbar=\"sd\", ax=axes[0])\n",
    "sns.lineplot(read_results(\"../results/p56/tournamentorder.csv\"), errorbar=\"sd\", ax=axes[1])\n",
    "fig.savefig(\"../images/p56/p56order.png\")"
   ],
   "metadata": {
    "collapsed": false,
    "is_executing": true
   },
   "id": "7a4dc5dede60058"
  },
  {
   "cell_type": "code",
   "execution_count": null,
   "outputs": [],
   "source": [
    "fig, axes = plt.subplots(1, 2, figsize=(10, 4), sharex=True, sharey=True)\n",
    "name = [\"Roulette\", \"Tournament\"]\n",
    "for i in range(2):\n",
    "    axes[i].set_title(f\"Cycle with {name[i]}\")\n",
    "sns.lineplot(read_results(\"../results/p56/roulettecycle.csv\"), errorbar=\"sd\", ax=axes[0])\n",
    "sns.lineplot(read_results(\"../results/p56/tournamentcycle.csv\"), errorbar=\"sd\", ax=axes[1])\n",
    "fig.savefig(\"../images/p56/p56cycle.png\")"
   ],
   "metadata": {
    "collapsed": false,
    "is_executing": true
   },
   "id": "49a75f7c248515e8"
  }
 ],
 "metadata": {
  "kernelspec": {
   "display_name": "Python 3",
   "language": "python",
   "name": "python3"
  },
  "language_info": {
   "codemirror_mode": {
    "name": "ipython",
    "version": 2
   },
   "file_extension": ".py",
   "mimetype": "text/x-python",
   "name": "python",
   "nbconvert_exporter": "python",
   "pygments_lexer": "ipython2",
   "version": "2.7.6"
  }
 },
 "nbformat": 4,
 "nbformat_minor": 5
}
