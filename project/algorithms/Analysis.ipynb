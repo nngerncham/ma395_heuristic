{
 "cells": [
  {
   "cell_type": "code",
   "execution_count": null,
   "id": "7535a17e-7503-4341-a372-0fea9a4812bf",
   "metadata": {},
   "outputs": [],
   "source": [
    "%matplotlib ipympl\n",
    "\n",
    "import matplotlib.pyplot as plt\n",
    "import numpy as np\n",
    "import pandas as pd\n",
    "from pymoo.indicators.hv import HV"
   ]
  },
  {
   "cell_type": "markdown",
   "id": "4a9bc42c-d081-4008-a403-50df230fb29e",
   "metadata": {},
   "source": [
    "# NSGA-II"
   ]
  },
  {
   "cell_type": "code",
   "execution_count": null,
   "id": "3048d760d7230723",
   "metadata": {
    "collapsed": false
   },
   "outputs": [],
   "source": [
    "methods = [\n",
    "    \"single-cutcat-unif\",\n",
    "    \"multi-cutcat-unif\",\n",
    "    \"single-cutcat-tour\",\n",
    "    \"multi-cutcat-tour\"\n",
    "]\n",
    "\n",
    "\n",
    "def nsga2_plot3d(df, name, e=40, a=-146, v=None):\n",
    "    fig = plt.figure()\n",
    "    axes = plt.axes(projection='3d')\n",
    "    # if v != None:\n",
    "    #     x, y, z = v\n",
    "    #     axes.scatter3D([x], [y], [z], label=\"Reference point\")\n",
    "    for m in methods:\n",
    "        to_use = df[df[\"method\"] == m]\n",
    "\n",
    "        axes.scatter3D(to_use['build_time'], to_use['search_time'], to_use['recall'], label=m)\n",
    "        axes.set_xlabel('build_time')\n",
    "        axes.set_ylabel('search_time')\n",
    "        axes.set_zlabel('recall')\n",
    "\n",
    "        axes.view_init(elev=e, azim=a)\n",
    "\n",
    "    plt.legend()\n",
    "    plt.savefig(f'../images/report/{name}.png')\n",
    "    plt.show()\n",
    "\n",
    "\n",
    "def nsga2_plot3d2(to_use, name, e=40, a=-146, v=None, set_limits=True):\n",
    "    fig = plt.figure()\n",
    "    axes = plt.axes(projection='3d')\n",
    "\n",
    "    axes.scatter3D(to_use['build_time'], to_use['search_time'], to_use['recall'])\n",
    "    axes.set_xlabel('build_time')\n",
    "    axes.set_ylabel('search_time')\n",
    "    axes.set_zlabel('recall')\n",
    "\n",
    "    if set_limits:\n",
    "        axes.set_xlim(0, 1)\n",
    "        axes.set_ylim(0, 1)\n",
    "        axes.set_zlim(0, 1)\n",
    "\n",
    "    axes.view_init(elev=e, azim=a)\n",
    "    plt.savefig(f'../images/report/{name}.png', bbox_inches=\"tight\")\n",
    "    plt.show()"
   ]
  },
  {
   "cell_type": "code",
   "execution_count": null,
   "id": "9351aa4fc1c78b70",
   "metadata": {
    "collapsed": false
   },
   "outputs": [],
   "source": [
    "# non_scaling = pd.read_csv(\"result-non-scaling.csv\")\n",
    "non_scaling_frontier = pd.read_csv(\"result-non-scaling-frontier.csv\")\n",
    "\n",
    "# scaling = pd.read_csv(\"result-scaling.csv\")\n",
    "scaling_frontier = pd.read_csv(\"result-scaling-frontier.csv\")"
   ]
  },
  {
   "cell_type": "code",
   "execution_count": null,
   "outputs": [],
   "source": [
    "scaling_frontier = scaling_frontier[scaling_frontier[\"generation\"] == 10]\n",
    "non_scaling_frontier = non_scaling_frontier[non_scaling_frontier[\"generation\"] == 10]"
   ],
   "metadata": {
    "collapsed": false
   },
   "id": "5adc6bb986176e8b"
  },
  {
   "cell_type": "markdown",
   "id": "23694a63e39530d7",
   "metadata": {
    "collapsed": false
   },
   "source": [
    "## Non-scaling"
   ]
  },
  {
   "cell_type": "code",
   "execution_count": null,
   "id": "a8e18079-b6ac-443e-83fe-ac9f54266a5a",
   "metadata": {},
   "outputs": [],
   "source": [
    "rp = [7, 0.01, 1]\n",
    "ind = HV(ref_point=rp)\n",
    "nsga2_plot3d(non_scaling_frontier, \"non-scaling-frontier\", 37, -162)"
   ]
  },
  {
   "cell_type": "code",
   "execution_count": null,
   "id": "35c11cce-e3f3-4540-9b26-37c0ec6c80e0",
   "metadata": {},
   "outputs": [],
   "source": [
    "nsga2_plot3d2(non_scaling_frontier[non_scaling_frontier[\"method\"] == \"single-cutcat-unif\"],\n",
    "              \"non-scaling-frontier-single-unif\", 37, -162, rp, set_limits=False)"
   ]
  },
  {
   "cell_type": "code",
   "execution_count": null,
   "id": "8ae8bce0-0b5c-4b97-9da3-e3e054dc4256",
   "metadata": {},
   "outputs": [],
   "source": [
    "nsga2_plot3d2(non_scaling_frontier[non_scaling_frontier[\"method\"] == \"multi-cutcat-unif\"],\n",
    "              \"non-scaling-frontier-multi-unif\", 37, -162, rp, set_limits=False)"
   ]
  },
  {
   "cell_type": "code",
   "execution_count": null,
   "id": "e600cb44-479a-48a4-bf83-cbcf61a5d37d",
   "metadata": {},
   "outputs": [],
   "source": [
    "nsga2_plot3d2(non_scaling_frontier[non_scaling_frontier[\"method\"] == \"single-cutcat-tour\"],\n",
    "              \"non-scaling-frontier-single-tour\", 37, -162, rp, set_limits=False)"
   ]
  },
  {
   "cell_type": "code",
   "execution_count": null,
   "id": "e3da67b1-a4b9-46ed-aea4-81b4cde04529",
   "metadata": {},
   "outputs": [],
   "source": [
    "nsga2_plot3d2(non_scaling_frontier[non_scaling_frontier[\"method\"] == \"multi-cutcat-tour\"],\n",
    "              \"non-scaling-frontier-multi-tour\", 37, -162, rp, set_limits=False)"
   ]
  },
  {
   "cell_type": "code",
   "execution_count": null,
   "id": "31e835c7-8868-48d1-95da-342df9364960",
   "metadata": {},
   "outputs": [],
   "source": [
    "for m in methods:\n",
    "    to_use = non_scaling_frontier[non_scaling_frontier[\"method\"] == m]\n",
    "    print(f\"HV of {m}:\",\n",
    "          ind(np.array([to_use[\"build_time\"], to_use[\"search_time\"], 1 - to_use[\"recall\"]]).transpose()))"
   ]
  },
  {
   "cell_type": "code",
   "execution_count": null,
   "id": "7dcc0e29-8f48-4ddd-a8bc-0048b055f178",
   "metadata": {},
   "outputs": [],
   "source": [
    "def compute_row_hv(row):\n",
    "    b = row[\"build_time\"]\n",
    "    s = row[\"search_time\"]\n",
    "    r = row[\"recall\"]\n",
    "    return ind(np.array([b, s, 1 - r]))\n",
    "\n",
    "\n",
    "non_scaling_frontier[\"hv\"] = non_scaling_frontier.apply(compute_row_hv, axis=1)\n",
    "sorted_nsf = non_scaling_frontier.sort_values(by=\"hv\", ascending=False)[:10]\n",
    "print(sorted_nsf.drop([\"method\", \"generation\", \"memory\", \"trial\"], axis=1).to_latex())\n",
    "sorted_nsf"
   ]
  },
  {
   "cell_type": "markdown",
   "id": "baecd7a9-aa36-48f4-8a55-0cf0bf5bfb3e",
   "metadata": {},
   "source": [
    "## Scaling"
   ]
  },
  {
   "cell_type": "code",
   "execution_count": null,
   "id": "4825c604-bba1-44f1-933d-d6219467bcfc",
   "metadata": {},
   "outputs": [],
   "source": [
    "rp = [1, 1, 1]\n",
    "nsga2_plot3d(scaling_frontier, \"scaling-frontier\", 37, -162, rp)"
   ]
  },
  {
   "cell_type": "code",
   "execution_count": null,
   "id": "b86c0d52-1b77-471f-8db3-31075b85d741",
   "metadata": {},
   "outputs": [],
   "source": [
    "nsga2_plot3d2(scaling_frontier[scaling_frontier[\"method\"] == \"single-cutcat-unif\"], \"scaling-frontier-single-unif\", 37,\n",
    "              -162, rp)"
   ]
  },
  {
   "cell_type": "code",
   "execution_count": null,
   "id": "6279ae4c-0f83-4db8-9325-1ce39cb96c13",
   "metadata": {},
   "outputs": [],
   "source": [
    "nsga2_plot3d2(scaling_frontier[scaling_frontier[\"method\"] == \"multi-cutcat-unif\"], \"scaling-frontier-multi-unif\", 37,\n",
    "              -162, rp)"
   ]
  },
  {
   "cell_type": "code",
   "execution_count": null,
   "id": "11d9f9b1-8abd-4469-98d1-ad3bdbd40e19",
   "metadata": {},
   "outputs": [],
   "source": [
    "nsga2_plot3d2(scaling_frontier[scaling_frontier[\"method\"] == \"single-cutcat-tour\"], \"scaling-frontier-single-tour\", 37,\n",
    "              -162, rp)"
   ]
  },
  {
   "cell_type": "code",
   "execution_count": null,
   "id": "3d8499cf-2d70-4ea3-933c-6b20383c2a1e",
   "metadata": {},
   "outputs": [],
   "source": [
    "nsga2_plot3d2(scaling_frontier[scaling_frontier[\"method\"] == \"multi-cutcat-tour\"], \"scaling-frontier-multi-tour\", 37,\n",
    "              -162, rp)"
   ]
  },
  {
   "cell_type": "code",
   "execution_count": null,
   "id": "1d58d55a-71ca-4d4f-88ee-c4c682e9acb7",
   "metadata": {},
   "outputs": [],
   "source": [
    "for m in methods:\n",
    "    to_use = scaling_frontier[scaling_frontier[\"method\"] == m]\n",
    "    ind = HV(ref_point=rp)\n",
    "    print(f\"HV of {m}:\",\n",
    "          ind(np.array([to_use[\"build_time\"], to_use[\"search_time\"], 1 - to_use[\"recall\"]]).transpose()))"
   ]
  },
  {
   "cell_type": "code",
   "execution_count": null,
   "id": "46b95801-c3eb-4c06-a6ff-bce7c3664b26",
   "metadata": {},
   "outputs": [],
   "source": [
    "scaling_frontier[\"hv\"] = scaling_frontier.apply(compute_row_hv, axis=1)\n",
    "sorted_sf = scaling_frontier.sort_values(by=\"hv\", ascending=False)[:10]\n",
    "print(sorted_sf.drop([\"method\", \"generation\", \"memory\", \"trial\"], axis=1).to_latex())\n",
    "sorted_sf.drop([\"method\", \"generation\", \"memory\", \"trial\"], axis=1)"
   ]
  },
  {
   "cell_type": "markdown",
   "id": "8485b9d9-bc4a-4672-bc32-39aaf66f18a6",
   "metadata": {},
   "source": [
    "# Weighted Sum with BO"
   ]
  },
  {
   "cell_type": "code",
   "execution_count": null,
   "outputs": [],
   "source": [
    "from algorithms.moo import BuildParams\n",
    "from algorithms.nsga2 import fast_non_dominated_sort\n",
    "\n",
    "\n",
    "def form_individual(row):\n",
    "    bp = BuildParams([row[\"M\"], row[\"C\"], row[\"S\"], row[\"alpha\"]])\n",
    "    bp.function_values = np.array([row[\"build_time\"], row[\"search_time\"], 0, 1 - row[\"recall\"]])\n",
    "    return bp\n",
    "\n",
    "\n",
    "def inds_to_dataframe(individuals):\n",
    "    form_individuals = [[\n",
    "        individual.v[0], individual.v[1], individual.v[2], individual.v[3],  # M, C, S, alpha\n",
    "        individual.function_values[0], individual.function_values[1], 1 - individual.function_values[3],\n",
    "        # build_time, search_time, recall\n",
    "    ] for individual in individuals]\n",
    "    columns = [\"M\", \"C\", \"S\", \"alpha\", \"build_time\", \"search_time\", \"recall\"]\n",
    "    # columns = [\"$M$\", \"$C$\", \"$S$\", \"$\\\\alpha$\", \"$f_c$\", \"$f_s$\", \"$f_r$\"]\n",
    "    return pd.DataFrame(form_individuals, columns=columns)"
   ],
   "metadata": {
    "collapsed": false
   },
   "id": "e3a56daf1ffdafc1"
  },
  {
   "cell_type": "code",
   "execution_count": null,
   "outputs": [],
   "source": [
    "def get_frontier_df(path):\n",
    "    bo_results = pd.read_csv(path).sort_values(by=\"ws\", ascending=False)\n",
    "    individuals = [form_individual(row) for _, row in bo_results.iterrows()]\n",
    "    first_frontier = fast_non_dominated_sort(individuals)[0]\n",
    "    return inds_to_dataframe(first_frontier)\n",
    "\n",
    "\n",
    "paths = [f\"bo-small-{w}-unscaled.csv\" for w in [\"111\", \"211\", \"122\", \"123\"]]\n",
    "bo_frontiers = [get_frontier_df(path) for path in paths]"
   ],
   "metadata": {
    "collapsed": false
   },
   "id": "958431e794139189"
  },
  {
   "cell_type": "code",
   "execution_count": null,
   "outputs": [],
   "source": [
    "# fig = plt.figure()\n",
    "# axes = plt.axes(projection='3d')\n",
    "# axes.set_xlim(0, 1)\n",
    "# axes.set_ylim(0, 1)\n",
    "# axes.set_zlim(0, 1)\n",
    "# axes.view_init(elev=20, azim=-162)\n",
    "# \n",
    "# weights = [\"111\", \"211\", \"122\", \"123\"]\n",
    "# for i in range(4):\n",
    "#     axes.scatter3D(bo_frontiers[i]['build_time'],\n",
    "#                    bo_frontiers[i]['search_time'],\n",
    "#                    bo_frontiers[i]['recall'],\n",
    "#                    label=f\"weight: {','.join(weights[i])}\")\n",
    "# \n",
    "# axes.set_xlabel('build_time')\n",
    "# axes.set_ylabel('search_time')\n",
    "# axes.set_zlabel('recall')\n",
    "# \n",
    "# plt.legend()\n",
    "# plt.savefig(f'../images/report/bo-frontiers-tgt.png', bbox_inches=\"tight\")\n",
    "# plt.show()"
   ],
   "metadata": {
    "collapsed": false
   },
   "id": "88fbcd3e3d010dd6"
  },
  {
   "cell_type": "code",
   "execution_count": null,
   "outputs": [],
   "source": [
    "# nsga2_plot3d2(bo_frontiers[0], \"bo-frontier111\", 25, -162)"
   ],
   "metadata": {
    "collapsed": false
   },
   "id": "21f7ec407d9aea46"
  },
  {
   "cell_type": "code",
   "execution_count": null,
   "outputs": [],
   "source": [
    "# nsga2_plot3d2(bo_frontiers[1], \"bo-frontier211\", 25, -162)"
   ],
   "metadata": {
    "collapsed": false
   },
   "id": "f82661f256b2a50b"
  },
  {
   "cell_type": "code",
   "execution_count": null,
   "outputs": [],
   "source": [
    "# nsga2_plot3d2(bo_frontiers[2], \"bo-frontier122\", 25, -162)"
   ],
   "metadata": {
    "collapsed": false
   },
   "id": "aadd86d2068b2ad0"
  },
  {
   "cell_type": "code",
   "execution_count": null,
   "outputs": [],
   "source": [
    "# nsga2_plot3d2(bo_frontiers[3], \"bo-frontier123\", 25, -162)"
   ],
   "metadata": {
    "collapsed": false
   },
   "id": "3d95205775f95520"
  },
  {
   "cell_type": "code",
   "execution_count": null,
   "outputs": [],
   "source": [
    "weights = [\"111\", \"211\", \"122\", \"123\"]\n",
    "for i in range(4):\n",
    "    ind = HV(ref_point=[1, 1, 1])\n",
    "    print(f\"HV of {weights[i]}:\",\n",
    "          ind(np.array([bo_frontiers[i][\"build_time\"],\n",
    "                        bo_frontiers[i][\"search_time\"],\n",
    "                        1 - bo_frontiers[i][\"recall\"]]).transpose()))"
   ],
   "metadata": {
    "collapsed": false
   },
   "id": "2690c63950814389"
  },
  {
   "cell_type": "code",
   "execution_count": null,
   "outputs": [],
   "source": [
    "all_bo_frontiers = pd.concat(bo_frontiers)\n",
    "all_bo_frontiers[\"hv\"] = all_bo_frontiers.apply(compute_row_hv, axis=1)\n",
    "sorted_bo = all_bo_frontiers.sort_values(by=\"hv\", ascending=False)[:10]\n",
    "print(sorted_bo.to_latex())\n",
    "sorted_bo"
   ],
   "metadata": {
    "collapsed": false
   },
   "id": "e6582431834e62f8"
  },
  {
   "cell_type": "markdown",
   "source": [
    "# Comparing the two"
   ],
   "metadata": {
    "collapsed": false
   },
   "id": "26b95d18a5901947"
  },
  {
   "cell_type": "code",
   "execution_count": null,
   "outputs": [],
   "source": [
    "all_bo_frontiers[\"method\"] = \"bo\"\n",
    "scaling_frontier[\"method\"] = \"nsga2\"\n",
    "all_frontiers = pd.concat([all_bo_frontiers, scaling_frontier]).reset_index(drop=True).dropna(axis=1)\n",
    "all_frontiers"
   ],
   "metadata": {
    "collapsed": false
   },
   "id": "eac7decededab82f"
  },
  {
   "cell_type": "code",
   "execution_count": null,
   "outputs": [],
   "source": [
    "bo_top10_fc = [0.056906, 0.058899, 0.059805, 0.124925, 0.127623, 0.128544, 0.128413, 0.128873, 0.125418, 0.129775]\n",
    "bo_top10_fs = [0.000900, 0.000955, 0.000902, 0.003450, 0.001628, 0.001415, 0.002333, 0.002133, 0.000846, 0.001709]\n",
    "bo_top10_fr = [0.968400, 0.968400, 0.966300, 1, 1, 0.9999, 1, 1, 0.9944, 1]\n",
    "bo_top10_hv = [0.912471, 0.910492, 0.907691, 0.872056, 0.870957, 0.870135, 0.869553, 0.869269, 0.868949, 0.868737]\n",
    "\n",
    "n2_top10_fc = [0.018249, 0.030292, 0.001252, 0.001252, 0.001252, 0.001252, 0.001252, 0.033138, 0.033138, 0.033138]\n",
    "n2_top10_fs = [0.004453, 0.00689, 0.039502, 0.039502, 0.039502, 0.039502, 0.039502, 0.007289, 0.007289, 0.007289]\n",
    "n2_top10_fr = [0.9993, 0.9959, 0.9994, 0.9994, 0.9994, 0.9994, 0.9994, 0.9954, 0.9954, 0.9954]\n",
    "n2_top10_hv = [0.976695, 0.959078, 0.958719, 0.958719, 0.958719, 0.958719, 0.958719, 0.955399, 0.955399, 0.955399]\n",
    "\n",
    "print(\n",
    "    f\"BO: {np.mean(bo_top10_fc):.6f} & {np.mean(bo_top10_fs):.6f} & {np.mean(bo_top10_fr):.6f} & {np.mean(bo_top10_hv):.6f}\")\n",
    "print(\n",
    "    f\"NSGA-II: {np.mean(n2_top10_fc):.6f} & {np.mean(n2_top10_fs):.6f} & {np.mean(n2_top10_fr):.6f} & {np.mean(n2_top10_hv):.6f}\")"
   ],
   "metadata": {
    "collapsed": false
   },
   "id": "f9ff68370cc63b1d"
  },
  {
   "cell_type": "code",
   "execution_count": null,
   "outputs": [],
   "source": [
    "fig = plt.figure()\n",
    "axes = plt.axes(projection='3d')\n",
    "axes.set_xlim(0, 1)\n",
    "axes.set_ylim(0, 1)\n",
    "axes.set_zlim(0, 1)\n",
    "axes.view_init(elev=20, azim=-162)\n",
    "\n",
    "axes.scatter3D(all_frontiers[all_frontiers[\"method\"] == \"bo\"]['build_time'],\n",
    "               all_frontiers[all_frontiers[\"method\"] == \"bo\"]['search_time'],\n",
    "               all_frontiers[all_frontiers[\"method\"] == \"bo\"]['recall'],\n",
    "               label=f\"BO\")\n",
    "axes.scatter3D(all_frontiers[all_frontiers[\"method\"] == \"nsga2\"]['build_time'],\n",
    "               all_frontiers[all_frontiers[\"method\"] == \"nsga2\"]['search_time'],\n",
    "               all_frontiers[all_frontiers[\"method\"] == \"nsga2\"]['recall'],\n",
    "               label=f\"NSGA-II\")\n",
    "\n",
    "axes.set_xlabel('build_time')\n",
    "axes.set_ylabel('search_time')\n",
    "axes.set_zlabel('recall')\n",
    "\n",
    "plt.legend()\n",
    "plt.savefig(f'../images/report/bo-vs-nsga2.png', bbox_inches=\"tight\")\n",
    "plt.show()"
   ],
   "metadata": {
    "collapsed": false
   },
   "id": "905854d41d6d3b36"
  }
 ],
 "metadata": {
  "kernelspec": {
   "display_name": "Python 3 (ipykernel)",
   "language": "python",
   "name": "python3"
  },
  "language_info": {
   "codemirror_mode": {
    "name": "ipython",
    "version": 3
   },
   "file_extension": ".py",
   "mimetype": "text/x-python",
   "name": "python",
   "nbconvert_exporter": "python",
   "pygments_lexer": "ipython3",
   "version": "3.10.9"
  }
 },
 "nbformat": 4,
 "nbformat_minor": 5
}
