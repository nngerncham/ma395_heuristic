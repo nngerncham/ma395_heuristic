{
 "cells": [
  {
   "cell_type": "code",
   "execution_count": 18,
   "id": "24720ef4-b625-43a3-8ec1-e2fb4d4da593",
   "metadata": {},
   "outputs": [],
   "source": [
    "import numpy as np\n",
    "from typing import List"
   ]
  },
  {
   "cell_type": "code",
   "execution_count": 21,
   "id": "5cfe6ecd-f7db-42b5-a74d-85181980ebb1",
   "metadata": {},
   "outputs": [],
   "source": [
    "def flat_manhattan_dist(loc1: int, loc2: int) -> int:\n",
    "    c1 = divmod(loc1, 3)\n",
    "    c2 = divmod(loc2, 3)\n",
    "    return np.sum(np.abs(np.subtract(c1, c2)))\n",
    "\n",
    "\n",
    "def pair_dist(csoln: str, ps: str) -> int:\n",
    "    l1 = csoln.index(ps[0])\n",
    "    l2 = csoln.index(ps[1])\n",
    "    return flat_manhattan_dist(l1, l2)\n",
    "\n",
    "\n",
    "def dist(path):\n",
    "    pairs = [\"ad\", \"ac\", \"dc\", \"bc\", \"di\", \"ci\", \"ce\", \"if\", \"ef\", \"fg\", \"fh\"]\n",
    "    weights = np.array([3, 1, 1, 4, 2, 3, 7, 4, 6, 7, 8])\n",
    "    pair_dists = [pair_dist(path, pair) for pair in pairs]\n",
    "    return weights @ pair_dists"
   ]
  },
  {
   "cell_type": "code",
   "execution_count": 22,
   "id": "1e6ef1ef-0507-4f9a-ac39-a128462de31a",
   "metadata": {},
   "outputs": [
    {
     "data": {
      "text/plain": [
       "85"
      ]
     },
     "execution_count": 22,
     "metadata": {},
     "output_type": "execute_result"
    }
   ],
   "source": [
    "current_cell = \"aghcbidef\"\n",
    "dist(current_cell)"
   ]
  }
 ],
 "metadata": {
  "kernelspec": {
   "display_name": "Python 3 (ipykernel)",
   "language": "python",
   "name": "python3"
  },
  "language_info": {
   "codemirror_mode": {
    "name": "ipython",
    "version": 3
   },
   "file_extension": ".py",
   "mimetype": "text/x-python",
   "name": "python",
   "nbconvert_exporter": "python",
   "pygments_lexer": "ipython3",
   "version": "3.10.9"
  }
 },
 "nbformat": 4,
 "nbformat_minor": 5
}
