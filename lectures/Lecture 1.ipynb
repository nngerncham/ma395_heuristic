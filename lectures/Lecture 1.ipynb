{
 "cells": [
  {
   "cell_type": "code",
   "execution_count": 6,
   "id": "cfd0dd42-40ff-4d80-80a1-aa7cada7d95d",
   "metadata": {},
   "outputs": [],
   "source": [
    "import numpy as np"
   ]
  },
  {
   "cell_type": "code",
   "execution_count": 7,
   "id": "401a92ab-921b-43fe-840d-0db7481e3fbe",
   "metadata": {},
   "outputs": [],
   "source": [
    "def f(x): return x**2 + 3*x + 5"
   ]
  },
  {
   "cell_type": "code",
   "execution_count": 8,
   "id": "4d20f245-beed-4827-aaaf-f5e0d0ae364d",
   "metadata": {},
   "outputs": [],
   "source": [
    "def hill_climb_f():\n",
    "    x = np.random.randint(-20, 20)\n",
    "    val = f(x)\n",
    "    \n",
    "    while True:\n",
    "        if x - 1 >= -20 and f(x - 1) < f(x):\n",
    "            x = x - 1\n",
    "        elif x + 1 <= 20 and f(x + 1) < f(x):\n",
    "            x = x + 1\n",
    "        else:\n",
    "            return x"
   ]
  },
  {
   "cell_type": "code",
   "execution_count": 9,
   "id": "badcd815-1b96-433c-b4ec-b51acc212172",
   "metadata": {},
   "outputs": [
    {
     "data": {
      "text/plain": [
       "-1"
      ]
     },
     "execution_count": 9,
     "metadata": {},
     "output_type": "execute_result"
    }
   ],
   "source": [
    "hill_climb_f()"
   ]
  }
 ],
 "metadata": {
  "kernelspec": {
   "display_name": "Python 3 (ipykernel)",
   "language": "python",
   "name": "python3"
  },
  "language_info": {
   "codemirror_mode": {
    "name": "ipython",
    "version": 3
   },
   "file_extension": ".py",
   "mimetype": "text/x-python",
   "name": "python",
   "nbconvert_exporter": "python",
   "pygments_lexer": "ipython3",
   "version": "3.10.9"
  }
 },
 "nbformat": 4,
 "nbformat_minor": 5
}
